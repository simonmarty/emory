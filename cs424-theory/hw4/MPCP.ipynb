{
  "nbformat": 4,
  "nbformat_minor": 0,
  "metadata": {
    "colab": {
      "name": "MPCP.ipynb",
      "version": "0.3.2",
      "provenance": []
    },
    "kernelspec": {
      "name": "python3",
      "display_name": "Python 3"
    }
  },
  "cells": [
    {
      "metadata": {
        "id": "eKC1-uRAMvpx",
        "colab_type": "text"
      },
      "cell_type": "markdown",
      "source": [
        "**MPCP Solver**\n",
        "\n",
        "This notebook defines a solver for the MPCP problem, as defined by Sipser.  MPCP is not decidable in general, so the integer parameter B controls how long we are willing to search for a match, before giving up.\n",
        "\n",
        "The first code cell defines the solver (a big blob of code, you don't need to study it).  The next few code cells run some examples, and the last code cell contains a language example.  For a homework exercise, you may be asked to modify *L_dominos* in the last cell.\n",
        "\n",
        "**Note:** you may need to \"Run\" the first cell, before you can run (re-evaluate) the last cell."
      ]
    },
    {
      "metadata": {
        "id": "0wxWR7M-M7eT",
        "colab_type": "code",
        "cellView": "both",
        "colab": {}
      },
      "cell_type": "code",
      "source": [
        "# Here we define an MPCP solver, with two versions:\n",
        "# \n",
        "#    mpcp_quiet(dominos, B) -- quietly returns something\n",
        "#    mpcp(dominos, B)       -- prints result, returns nothing\n",
        "#\n",
        "# 'dominos' is a list of dominos, where a domino is a pair of strings\n",
        "# (as described by Sipser,see some examples below).\n",
        "# These solvers look for a match starting with the first domino.\n",
        "# 'B' is an integer bounding the length of our search, you may omit\n",
        "# it to use a default value.\n",
        "\n",
        "# First, a few helper functions\n",
        "def reduce(a, b):\n",
        "  # Return prefix-reduced form of strings a and b, or None.\n",
        "  n = min(len(a), len(b))\n",
        "  return None if a[:n]!=b[:n] else (a[n:], b[n:])\n",
        "\n",
        "def seq2list(seq):\n",
        "  # Convert (3, (2, (1, None))) to [1, 2, 3]\n",
        "  ret = []\n",
        "  while seq != None:\n",
        "    ret.append(seq[0])\n",
        "    seq = seq[1]\n",
        "  return ret[::-1]\n",
        "\n",
        "import heapq\n",
        "def pqpair(r):\n",
        "  # Order our pq to prefer exploring partial matches\n",
        "  # with a minimal amount of unmatched text.\n",
        "  return (len(r[0])+len(r[1]), r)\n",
        "\n",
        "def mpcp_quiet(dominos, B=10000):\n",
        "  \"\"\"\n",
        "  Given a list of dominos, try to find an MPCP match.\n",
        "  That is, a match starting with a copy of dominos[0].\n",
        "  If found, the match is returned as a list of indices.\n",
        "  The integer B bounds the number of steps searched.\n",
        "  If there is definitely no match, returns None.\n",
        "  If we ran out of steps, returns B.\n",
        "  \"\"\"\n",
        "  pq, seq = [], {}\n",
        "  start = reduce(dominos[0][0], dominos[0][1])\n",
        "  if start:\n",
        "    heapq.heappush(pq, pqpair(start))\n",
        "    seq[start] = (0, None)\n",
        "  goal = ('', '')\n",
        "  for step in range(B):\n",
        "    if len(pq)==0: # no solution!\n",
        "      return None\n",
        "    thispair = heapq.heappop(pq)[1]\n",
        "    thisseq = seq[thispair]\n",
        "    if thispair == goal: # found it! return match\n",
        "      return seq2list(thisseq)\n",
        "    # Try extending thispair with each domino\n",
        "    for i in range(len(dominos)):\n",
        "      dom = dominos[i]\n",
        "      r = reduce(thispair[0]+dom[0], thispair[1]+dom[1])\n",
        "      if r and (r not in seq): # new reduced pair\n",
        "        seq[r] = (i, thisseq)\n",
        "        if r==goal: # found it!\n",
        "          return seq2list(seq[r])\n",
        "        # save r for later\n",
        "        heapq.heappush(pq, pqpair(r))\n",
        "  # ran out of steps\n",
        "  return B\n",
        "\n",
        "def mpcp(dominos, B=10000):\n",
        "  \"\"\"\n",
        "  Run mpcp_quiet(dominos, B), and print the result.\n",
        "  This function returns nothing.\n",
        "  \"\"\"\n",
        "  print('Solving MPCP:', \n",
        "        ' '.join(\"%s/%s\" % d for d in dominos))\n",
        "  sol = mpcp_quiet(dominos, B)\n",
        "  if sol==None:\n",
        "    print(\"NO MATCH (no solution exists)\")\n",
        "  elif sol==B:\n",
        "    print(\"NO MATCH FOUND (gave up after %d steps)\" % B)\n",
        "  else:\n",
        "    print(\"FOUND MATCH:\", ' '.join(str(i) for i in sol))\n",
        "    print(' '.join(dominos[i][0] for i in sol))\n",
        "    print(' '.join(dominos[i][1] for i in sol))\n",
        "  print()  # return nothing"
      ],
      "execution_count": 0,
      "outputs": []
    },
    {
      "metadata": {
        "id": "hFQtXSBvNhKK",
        "colab_type": "text"
      },
      "cell_type": "markdown",
      "source": [
        "**Examples**"
      ]
    },
    {
      "metadata": {
        "id": "h9fDtazYNj8i",
        "colab_type": "code",
        "outputId": "b805aad3-d235-4783-8db6-47f42f7f231f",
        "colab": {
          "base_uri": "https://localhost:8080/",
          "height": 265
        }
      },
      "cell_type": "code",
      "source": [
        "# Example from Sipser page 227\n",
        "page227 = [('b', 'ca'), ('a', 'ab'), ('ca', 'a'), ('abc', 'c')]\n",
        "mpcp(page227) # no solution\n",
        "\n",
        "# Rearraged, moved the second domino to the front\n",
        "page227b = [('a', 'ab'), ('b', 'ca'), ('ca', 'a'), ('abc', 'c')]\n",
        "mpcp(page227b) # finds match in book\n",
        "\n",
        "# Exercise 5.3, Sipser page 239\n",
        "page239 = [('ab', 'abab'), ('b', 'a'), ('aba', 'b'), ('aa', 'a')]\n",
        "mpcp(page239)  # finds match in book"
      ],
      "execution_count": 0,
      "outputs": [
        {
          "output_type": "stream",
          "text": [
            "Solving MPCP: b/ca a/ab ca/a abc/c\n",
            "NO MATCH (no solution exists)\n",
            "\n",
            "Solving MPCP: a/ab b/ca ca/a abc/c\n",
            "FOUND MATCH: 0 1 2 0 3\n",
            "a b ca a abc\n",
            "ab ca a ab c\n",
            "\n",
            "Solving MPCP: ab/abab b/a aba/b aa/a\n",
            "FOUND MATCH: 0 0 2 1 1 3 3\n",
            "ab ab aba b b aa aa\n",
            "abab abab b a a a a\n",
            "\n"
          ],
          "name": "stdout"
        }
      ]
    },
    {
      "metadata": {
        "id": "NRlJmGRDN7e6",
        "colab_type": "code",
        "outputId": "d4ec41c4-1481-4379-bd02-0e057facddd0",
        "colab": {
          "base_uri": "https://localhost:8080/",
          "height": 131
        }
      },
      "cell_type": "code",
      "source": [
        "# Examples with no solution\n",
        "mpcp([('b', 'baaab'), ('aa', '')]) # no solution\n",
        "mpcp([('b', 'baab'), ('aa', '')]) # solver gives up"
      ],
      "execution_count": 0,
      "outputs": [
        {
          "output_type": "stream",
          "text": [
            "Solving MPCP: b/baaab aa/\n",
            "NO MATCH (no solution exists)\n",
            "\n",
            "Solving MPCP: b/baab aa/\n",
            "NO MATCH FOUND (gave up after 10000 steps)\n",
            "\n"
          ],
          "name": "stdout"
        }
      ]
    },
    {
      "metadata": {
        "id": "MLlw5lm19NlQ",
        "colab_type": "text"
      },
      "cell_type": "markdown",
      "source": [
        "**Language Example**\n",
        "\n",
        "This last code cell defines a language L (see the comments below).  As given, L is the set of all strings, over alphabet {a,b}, with an odd number of b's.\n",
        "\n",
        "As an exercise, you may be asked to modify the list *L_dominos* (below) so that  *L* becomes some other language.\n",
        "\n",
        "Note we add a first domino ('#Sw', '#'), where w is the input string. This 'S' looks like the start state in Sipser's reduction (from A<sub>TM</sub> to MPCP).  However, you are *not* required to use Sipser's method, in particular your dominos do not need to simulate a Turing machine."
      ]
    },
    {
      "metadata": {
        "id": "HqjvHiClUsgO",
        "colab_type": "code",
        "outputId": "82b1bbbf-9d68-496f-a799-fb098b8ad03c",
        "colab": {
          "base_uri": "https://localhost:8080/",
          "height": 112
        }
      },
      "cell_type": "code",
      "source": [
        "# TODO: edit L_dominos here, to change the language L below.\n",
        "\n",
        "L_dominos = [\n",
        "  ('a', 'a'), ('b', 'b'), ('#', '#'),\n",
        "  ('Sa', 'S'), ('Sb', 'T'),\n",
        "  ('Ta', 'T'), ('Tb', 'S'), ('#T#', '#')\n",
        "]\n",
        "\n",
        "# You (or a grader!) may pick w, an input string in {a,b}*\n",
        "w = 'ababab'\n",
        "\n",
        "# You may also pick B (depending on w), large enough to find a\n",
        "# match if there is one. This B should suffice for small examples:\n",
        "B = 10000\n",
        "\n",
        "# NOTE 1: L_dominos should not depend on w or B.\n",
        "# NOTE 2: You should not need to edit the code below!\n",
        "\n",
        "assert all(c in 'ab' for c in w), \"string w should be in {a,b}*\"\n",
        "\n",
        "def dominos(w):\n",
        "  return [('#', '#S'+w+'#')] + L_dominos\n",
        "\n",
        "# We define dominos(w) by creating a first domino containing w,\n",
        "# and prepending that to L_dominos.  We define the language\n",
        "#    L = { w in {a,b}*: dominos(w) has a match }.\n",
        "# If such a match exists, then we can find it with our solver,\n",
        "# for large enough B.\n",
        "\n",
        "mpcp(dominos(w), B)"
      ],
      "execution_count": 0,
      "outputs": [
        {
          "output_type": "stream",
          "text": [
            "Solving MPCP: #/#Sababab# a/a b/b #/# Sa/S Sb/T Ta/T Tb/S #T#/#\n",
            "FOUND MATCH: 0 4 2 1 2 1 2 3 5 1 2 1 2 3 6 2 1 2 3 7 1 2 3 4 2 3 5 8\n",
            "# Sa b a b a b # Sb a b a b # Ta b a b # Tb a b # Sa b # Sb #T#\n",
            "#Sababab# S b a b a b # T a b a b # T b a b # S a b # S b # T #\n",
            "\n"
          ],
          "name": "stdout"
        }
      ]
    }
  ]
}