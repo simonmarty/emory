{
 "metadata": {
  "language_info": {
   "codemirror_mode": {
    "name": "ipython",
    "version": 3
   },
   "file_extension": ".py",
   "mimetype": "text/x-python",
   "name": "python",
   "nbconvert_exporter": "python",
   "pygments_lexer": "ipython3",
   "version": "3.8.5-final"
  },
  "orig_nbformat": 2,
  "kernelspec": {
   "name": "python3",
   "language": "python",
   "display_name": "Python 3"
  }
 },
 "nbformat": 4,
 "nbformat_minor": 2,
 "cells": [
  {
   "cell_type": "code",
   "execution_count": 1,
   "metadata": {},
   "outputs": [
    {
     "data": {
      "text/plain": "True"
     },
     "execution_count": 1,
     "metadata": {},
     "output_type": "execute_result"
    }
   ],
   "source": [
    "import torch\n",
    "import torch.nn as nn\n",
    "from torch.utils.data import TensorDataset, Dataset, DataLoader, random_split\n",
    "from torch.nn import functional as F\n",
    "import pandas as pd\n",
    "import numpy as np\n",
    "import matplotlib.pyplot as plt\n",
    "import json\n",
    "import seaborn as sns\n",
    "import os\n",
    "import random\n",
    "import plotly.express as px\n",
    "from sklearn.model_selection import KFold\n",
    "\n",
    "torch.cuda.is_available()"
   ]
  },
  {
   "source": [
    "# Preprocessing"
   ],
   "cell_type": "markdown",
   "metadata": {}
  },
  {
   "cell_type": "code",
   "execution_count": 14,
   "metadata": {},
   "outputs": [],
   "source": [
    "learning_rate = 0.001\n",
    "batch_size = 64\n",
    "n_epoch = 10\n",
    "n_split = 2\n",
    "K = 1\n",
    "gcn_agg = 'mean'\n",
    "filter_noise = True\n",
    "seed = 1234"
   ]
  },
  {
   "cell_type": "code",
   "execution_count": 3,
   "metadata": {},
   "outputs": [
    {
     "data": {
      "text/plain": "   index            id                                           sequence  \\\n0      0  id_001f94081  GGAAAAGCUCUAAUAACAGGAGACUAGGACUACGUAUUUCUAGGUA...   \n2      2  id_006f36f57  GGAAAGUGCUCAGAUAAGCUAAGCUCGAAUAGCAAUCGAAUAGAAU...   \n5      5  id_00ab2d761  GGAAAGCGCCGCGGCGGUAGCGGCAGCGAGGAGCGCUACCAAGGCA...   \n6      6  id_00abef1d7  GGAAAACAAUUGCAUCGUUAGUACGACUCCACAGCGUAAGCUGUGG...   \n7      7  id_00b436dec  GGAAAUCAUCGAGGACGGGUCCGUUCAGCACGCGAAAGCGUCGUGA...   \n\n                                           structure  \\\n0  .....((((((.......)))).)).((.....((..((((((......   \n2  .....((((.((.....((((.(((.....)))..((((......)...   \n5  .....(.(((((.(((((((((...........)))))))..(((....   \n6  .........((((((((......((((((((((((....)))))))...   \n7  .....(((((((((((..(((((((((..((((....))))..)))...   \n\n                                 predicted_loop_type  signal_to_noise  \\\n0  EEEEESSSSSSHHHHHHHSSSSBSSXSSIIIIISSIISSSSSSHHH...            6.894   \n2  EEEEESSSSISSIIIIISSSSMSSSHHHHHSSSMMSSSSHHHHHHS...            8.800   \n5  EEEEESISSSSSISSSSSSSSSHHHHHHHHHHHSSSSSSSMMSSSH...            4.136   \n6  EEEEEEEEESSSSSSSSIIIIIISSSSSSSSSSSSHHHHSSSSSSS...            2.485   \n7  EEEEESSSSSSSSSSSIISSSSSSSSSIISSSSHHHHSSSSIISSS...            1.727   \n\n   SN_filter  seq_length  seq_scored  \\\n0          1         107          68   \n2          1         107          68   \n5          1         107          68   \n6          1         107          68   \n7          1         107          68   \n\n                                    reactivity_error  \\\n0  [0.1359, 0.20700000000000002, 0.1633, 0.1452, ...   \n2  [0.0931, 0.13290000000000002, 0.11280000000000...   \n5  [0.1942, 0.2041, 0.1626, 0.1213, 0.10590000000...   \n6  [0.422, 0.5478000000000001, 0.4749000000000000...   \n7  [0.4843, 0.5233, 0.4554, 0.43520000000000003, ...   \n\n                                   deg_error_Mg_pH10  \\\n0  [0.26130000000000003, 0.38420000000000004, 0.1...   \n2  [0.1365, 0.2237, 0.1812, 0.1333, 0.1148, 0.160...   \n5  [0.2726, 0.2984, 0.21660000000000001, 0.1637, ...   \n6  [0.4801, 0.7943, 0.42160000000000003, 0.397300...   \n7  [0.8719, 1.0307, 0.6649, 0.34500000000000003, ...   \n\n                                      deg_error_pH10  \\\n0  [0.2631, 0.28600000000000003, 0.0964, 0.1574, ...   \n2  [0.17020000000000002, 0.178, 0.111, 0.091, 0.0...   \n5  [0.3393, 0.2728, 0.2005, 0.1703, 0.1495, 0.134...   \n6  [0.9822000000000001, 1.272, 0.6940000000000001...   \n7  [0.7045, 0.7775000000000001, 0.5662, 0.4561, 0...   \n\n                                    deg_error_Mg_50C  \\\n0  [0.1501, 0.275, 0.0947, 0.18660000000000002, 0...   \n2  [0.1033, 0.1464, 0.1126, 0.09620000000000001, ...   \n5  [0.165, 0.20520000000000002, 0.179, 0.1333, 0....   \n6  [0.5827, 0.7555000000000001, 0.5949, 0.4511, 0...   \n7  [0.384, 0.723, 0.4766, 0.30260000000000004, 0....   \n\n                                       deg_error_50C  \\\n0  [0.2167, 0.34750000000000003, 0.188, 0.2124, 0...   \n2  [0.14980000000000002, 0.1761, 0.1517, 0.116700...   \n5  [0.2864, 0.24710000000000001, 0.2222, 0.1903, ...   \n6  [0.9306000000000001, 1.0496, 0.5844, 0.7796000...   \n7  [0.7429, 0.9137000000000001, 0.480400000000000...   \n\n                                          reactivity  \\\n0  [0.3297, 1.5693000000000001, 1.1227, 0.8686, 0...   \n2  [0.44820000000000004, 1.4822, 1.1819, 0.743400...   \n5  [0.7642, 1.6641, 1.0622, 0.5008, 0.4107, 0.133...   \n6  [0.895, 2.3377, 2.2305, 2.003, 1.9006, 1.0373,...   \n7  [1.1576, 1.5137, 1.3382, 1.5622, 1.2121, 0.295...   \n\n                                         deg_Mg_pH10  \\\n0  [0.7556, 2.983, 0.2526, 1.3789, 0.637600000000...   \n2  [0.2504, 1.4021, 0.9804, 0.49670000000000003, ...   \n5  [0.9559000000000001, 1.9442, 1.0114, 0.5105000...   \n6  [0.46040000000000003, 3.6695, 0.78550000000000...   \n7  [1.6912, 5.2652, 2.3901, 0.45890000000000003, ...   \n\n                                            deg_pH10  \\\n0  [2.3375, 3.5060000000000002, 0.3008, 1.0108, 0...   \n2  [2.243, 2.9361, 1.0553, 0.721, 0.6396000000000...   \n5  [1.9554, 2.1298, 1.0403, 0.609, 0.5486, 0.386,...   \n6  [2.7711, 7.365, 1.6924000000000001, 1.43840000...   \n7  [1.8641, 2.3767, 1.149, 1.0132, 0.9876, 0.0, 0...   \n\n                                          deg_Mg_50C  \\\n0  [0.35810000000000003, 2.9683, 0.2589, 1.4552, ...   \n2  [0.5163, 1.6823000000000001, 1.0426, 0.7902, 0...   \n5  [0.22460000000000002, 1.7281, 1.381, 0.6623, 0...   \n6  [1.073, 2.8604000000000003, 1.9936, 1.0273, 1....   \n7  [0.49060000000000004, 4.6339, 1.95860000000000...   \n\n                                             deg_50C  \n0  [0.6382, 3.4773, 0.9988, 1.3228, 0.78770000000...  \n2  [0.9501000000000001, 1.7974999999999999, 1.499...  \n5  [0.5882000000000001, 1.1786, 0.9704, 0.6035, 0...  \n6  [2.0964, 3.3688000000000002, 0.6399, 2.1053, 1...  \n7  [1.2852000000000001, 2.5460000000000003, 0.234...  ",
      "text/html": "<div>\n<style scoped>\n    .dataframe tbody tr th:only-of-type {\n        vertical-align: middle;\n    }\n\n    .dataframe tbody tr th {\n        vertical-align: top;\n    }\n\n    .dataframe thead th {\n        text-align: right;\n    }\n</style>\n<table border=\"1\" class=\"dataframe\">\n  <thead>\n    <tr style=\"text-align: right;\">\n      <th></th>\n      <th>index</th>\n      <th>id</th>\n      <th>sequence</th>\n      <th>structure</th>\n      <th>predicted_loop_type</th>\n      <th>signal_to_noise</th>\n      <th>SN_filter</th>\n      <th>seq_length</th>\n      <th>seq_scored</th>\n      <th>reactivity_error</th>\n      <th>deg_error_Mg_pH10</th>\n      <th>deg_error_pH10</th>\n      <th>deg_error_Mg_50C</th>\n      <th>deg_error_50C</th>\n      <th>reactivity</th>\n      <th>deg_Mg_pH10</th>\n      <th>deg_pH10</th>\n      <th>deg_Mg_50C</th>\n      <th>deg_50C</th>\n    </tr>\n  </thead>\n  <tbody>\n    <tr>\n      <th>0</th>\n      <td>0</td>\n      <td>id_001f94081</td>\n      <td>GGAAAAGCUCUAAUAACAGGAGACUAGGACUACGUAUUUCUAGGUA...</td>\n      <td>.....((((((.......)))).)).((.....((..((((((......</td>\n      <td>EEEEESSSSSSHHHHHHHSSSSBSSXSSIIIIISSIISSSSSSHHH...</td>\n      <td>6.894</td>\n      <td>1</td>\n      <td>107</td>\n      <td>68</td>\n      <td>[0.1359, 0.20700000000000002, 0.1633, 0.1452, ...</td>\n      <td>[0.26130000000000003, 0.38420000000000004, 0.1...</td>\n      <td>[0.2631, 0.28600000000000003, 0.0964, 0.1574, ...</td>\n      <td>[0.1501, 0.275, 0.0947, 0.18660000000000002, 0...</td>\n      <td>[0.2167, 0.34750000000000003, 0.188, 0.2124, 0...</td>\n      <td>[0.3297, 1.5693000000000001, 1.1227, 0.8686, 0...</td>\n      <td>[0.7556, 2.983, 0.2526, 1.3789, 0.637600000000...</td>\n      <td>[2.3375, 3.5060000000000002, 0.3008, 1.0108, 0...</td>\n      <td>[0.35810000000000003, 2.9683, 0.2589, 1.4552, ...</td>\n      <td>[0.6382, 3.4773, 0.9988, 1.3228, 0.78770000000...</td>\n    </tr>\n    <tr>\n      <th>2</th>\n      <td>2</td>\n      <td>id_006f36f57</td>\n      <td>GGAAAGUGCUCAGAUAAGCUAAGCUCGAAUAGCAAUCGAAUAGAAU...</td>\n      <td>.....((((.((.....((((.(((.....)))..((((......)...</td>\n      <td>EEEEESSSSISSIIIIISSSSMSSSHHHHHSSSMMSSSSHHHHHHS...</td>\n      <td>8.800</td>\n      <td>1</td>\n      <td>107</td>\n      <td>68</td>\n      <td>[0.0931, 0.13290000000000002, 0.11280000000000...</td>\n      <td>[0.1365, 0.2237, 0.1812, 0.1333, 0.1148, 0.160...</td>\n      <td>[0.17020000000000002, 0.178, 0.111, 0.091, 0.0...</td>\n      <td>[0.1033, 0.1464, 0.1126, 0.09620000000000001, ...</td>\n      <td>[0.14980000000000002, 0.1761, 0.1517, 0.116700...</td>\n      <td>[0.44820000000000004, 1.4822, 1.1819, 0.743400...</td>\n      <td>[0.2504, 1.4021, 0.9804, 0.49670000000000003, ...</td>\n      <td>[2.243, 2.9361, 1.0553, 0.721, 0.6396000000000...</td>\n      <td>[0.5163, 1.6823000000000001, 1.0426, 0.7902, 0...</td>\n      <td>[0.9501000000000001, 1.7974999999999999, 1.499...</td>\n    </tr>\n    <tr>\n      <th>5</th>\n      <td>5</td>\n      <td>id_00ab2d761</td>\n      <td>GGAAAGCGCCGCGGCGGUAGCGGCAGCGAGGAGCGCUACCAAGGCA...</td>\n      <td>.....(.(((((.(((((((((...........)))))))..(((....</td>\n      <td>EEEEESISSSSSISSSSSSSSSHHHHHHHHHHHSSSSSSSMMSSSH...</td>\n      <td>4.136</td>\n      <td>1</td>\n      <td>107</td>\n      <td>68</td>\n      <td>[0.1942, 0.2041, 0.1626, 0.1213, 0.10590000000...</td>\n      <td>[0.2726, 0.2984, 0.21660000000000001, 0.1637, ...</td>\n      <td>[0.3393, 0.2728, 0.2005, 0.1703, 0.1495, 0.134...</td>\n      <td>[0.165, 0.20520000000000002, 0.179, 0.1333, 0....</td>\n      <td>[0.2864, 0.24710000000000001, 0.2222, 0.1903, ...</td>\n      <td>[0.7642, 1.6641, 1.0622, 0.5008, 0.4107, 0.133...</td>\n      <td>[0.9559000000000001, 1.9442, 1.0114, 0.5105000...</td>\n      <td>[1.9554, 2.1298, 1.0403, 0.609, 0.5486, 0.386,...</td>\n      <td>[0.22460000000000002, 1.7281, 1.381, 0.6623, 0...</td>\n      <td>[0.5882000000000001, 1.1786, 0.9704, 0.6035, 0...</td>\n    </tr>\n    <tr>\n      <th>6</th>\n      <td>6</td>\n      <td>id_00abef1d7</td>\n      <td>GGAAAACAAUUGCAUCGUUAGUACGACUCCACAGCGUAAGCUGUGG...</td>\n      <td>.........((((((((......((((((((((((....)))))))...</td>\n      <td>EEEEEEEEESSSSSSSSIIIIIISSSSSSSSSSSSHHHHSSSSSSS...</td>\n      <td>2.485</td>\n      <td>1</td>\n      <td>107</td>\n      <td>68</td>\n      <td>[0.422, 0.5478000000000001, 0.4749000000000000...</td>\n      <td>[0.4801, 0.7943, 0.42160000000000003, 0.397300...</td>\n      <td>[0.9822000000000001, 1.272, 0.6940000000000001...</td>\n      <td>[0.5827, 0.7555000000000001, 0.5949, 0.4511, 0...</td>\n      <td>[0.9306000000000001, 1.0496, 0.5844, 0.7796000...</td>\n      <td>[0.895, 2.3377, 2.2305, 2.003, 1.9006, 1.0373,...</td>\n      <td>[0.46040000000000003, 3.6695, 0.78550000000000...</td>\n      <td>[2.7711, 7.365, 1.6924000000000001, 1.43840000...</td>\n      <td>[1.073, 2.8604000000000003, 1.9936, 1.0273, 1....</td>\n      <td>[2.0964, 3.3688000000000002, 0.6399, 2.1053, 1...</td>\n    </tr>\n    <tr>\n      <th>7</th>\n      <td>7</td>\n      <td>id_00b436dec</td>\n      <td>GGAAAUCAUCGAGGACGGGUCCGUUCAGCACGCGAAAGCGUCGUGA...</td>\n      <td>.....(((((((((((..(((((((((..((((....))))..)))...</td>\n      <td>EEEEESSSSSSSSSSSIISSSSSSSSSIISSSSHHHHSSSSIISSS...</td>\n      <td>1.727</td>\n      <td>1</td>\n      <td>107</td>\n      <td>68</td>\n      <td>[0.4843, 0.5233, 0.4554, 0.43520000000000003, ...</td>\n      <td>[0.8719, 1.0307, 0.6649, 0.34500000000000003, ...</td>\n      <td>[0.7045, 0.7775000000000001, 0.5662, 0.4561, 0...</td>\n      <td>[0.384, 0.723, 0.4766, 0.30260000000000004, 0....</td>\n      <td>[0.7429, 0.9137000000000001, 0.480400000000000...</td>\n      <td>[1.1576, 1.5137, 1.3382, 1.5622, 1.2121, 0.295...</td>\n      <td>[1.6912, 5.2652, 2.3901, 0.45890000000000003, ...</td>\n      <td>[1.8641, 2.3767, 1.149, 1.0132, 0.9876, 0.0, 0...</td>\n      <td>[0.49060000000000004, 4.6339, 1.95860000000000...</td>\n      <td>[1.2852000000000001, 2.5460000000000003, 0.234...</td>\n    </tr>\n  </tbody>\n</table>\n</div>"
     },
     "execution_count": 3,
     "metadata": {},
     "output_type": "execute_result"
    }
   ],
   "source": [
    "train = pd.read_json(\"../data/train.json\", lines=True)\n",
    "test = pd.read_json(\"../data/test.json\", lines=True)\n",
    "\n",
    "if filter_noise:\n",
    "    train = train[train.signal_to_noise > 1]\n",
    "    \n",
    "sample_df = pd.read_csv(\"../data/sample_submission.csv\")\n",
    "train.head()"
   ]
  },
  {
   "cell_type": "code",
   "execution_count": 4,
   "metadata": {},
   "outputs": [
    {
     "data": {
      "text/plain": "        id_seqpos  reactivity  deg_Mg_pH10  deg_pH10  deg_Mg_50C  deg_50C\n0  id_00073f8be_0         0.0          0.0       0.0         0.0      0.0\n1  id_00073f8be_1         0.0          0.0       0.0         0.0      0.0\n2  id_00073f8be_2         0.0          0.0       0.0         0.0      0.0\n3  id_00073f8be_3         0.0          0.0       0.0         0.0      0.0\n4  id_00073f8be_4         0.0          0.0       0.0         0.0      0.0",
      "text/html": "<div>\n<style scoped>\n    .dataframe tbody tr th:only-of-type {\n        vertical-align: middle;\n    }\n\n    .dataframe tbody tr th {\n        vertical-align: top;\n    }\n\n    .dataframe thead th {\n        text-align: right;\n    }\n</style>\n<table border=\"1\" class=\"dataframe\">\n  <thead>\n    <tr style=\"text-align: right;\">\n      <th></th>\n      <th>id_seqpos</th>\n      <th>reactivity</th>\n      <th>deg_Mg_pH10</th>\n      <th>deg_pH10</th>\n      <th>deg_Mg_50C</th>\n      <th>deg_50C</th>\n    </tr>\n  </thead>\n  <tbody>\n    <tr>\n      <th>0</th>\n      <td>id_00073f8be_0</td>\n      <td>0.0</td>\n      <td>0.0</td>\n      <td>0.0</td>\n      <td>0.0</td>\n      <td>0.0</td>\n    </tr>\n    <tr>\n      <th>1</th>\n      <td>id_00073f8be_1</td>\n      <td>0.0</td>\n      <td>0.0</td>\n      <td>0.0</td>\n      <td>0.0</td>\n      <td>0.0</td>\n    </tr>\n    <tr>\n      <th>2</th>\n      <td>id_00073f8be_2</td>\n      <td>0.0</td>\n      <td>0.0</td>\n      <td>0.0</td>\n      <td>0.0</td>\n      <td>0.0</td>\n    </tr>\n    <tr>\n      <th>3</th>\n      <td>id_00073f8be_3</td>\n      <td>0.0</td>\n      <td>0.0</td>\n      <td>0.0</td>\n      <td>0.0</td>\n      <td>0.0</td>\n    </tr>\n    <tr>\n      <th>4</th>\n      <td>id_00073f8be_4</td>\n      <td>0.0</td>\n      <td>0.0</td>\n      <td>0.0</td>\n      <td>0.0</td>\n      <td>0.0</td>\n    </tr>\n  </tbody>\n</table>\n</div>"
     },
     "execution_count": 4,
     "metadata": {},
     "output_type": "execute_result"
    }
   ],
   "source": [
    "sample_df.head()"
   ]
  },
  {
   "cell_type": "code",
   "execution_count": 5,
   "metadata": {},
   "outputs": [],
   "source": [
    "token2int = {x:i for i, x in enumerate('().ACGUBEHIMSX')}\n",
    "\n",
    "def find_couples(data):\n",
    "    left = [idx for idx, i in enumerate(data) if i == '(']\n",
    "    right = [idx for idx, i in enumerate(data) if i == ')']\n",
    "\n",
    "    if len(left) != len(right):\n",
    "        raise ValueError(\"Size not matching\")\n",
    "    already_visited = []\n",
    "    pairs = []\n",
    "\n",
    "    for i1 in right:\n",
    "        for i2 in left:\n",
    "            if i2 < i1:\n",
    "                if i2 not in already_visited:\n",
    "                    candidate = i2\n",
    "            else:\n",
    "                break\n",
    "        already_visited.append(candidate)\n",
    "        pairs.append([candidate, i1])\n",
    "\n",
    "    if len(pairs) != len(left):\n",
    "        raise ValueError(\"Number of pairs doesnt match number of parenthesess\")\n",
    "    \n",
    "    return pairs\n",
    "\n",
    "def to_matrix(pairs, length):\n",
    "    matrix = np.zeros((length, length))\n",
    "    \n",
    "    for i in range(length):\n",
    "        if i < length - 1:\n",
    "            matrix[i, i + 1] = 1\n",
    "        if i > 0:\n",
    "            matrix[i, i - 1] = 1\n",
    "    \n",
    "    for i, j in pairs:\n",
    "        matrix[i, j] = 1\n",
    "        matrix[j, i] = 1\n",
    "        \n",
    "    return matrix\n",
    "\n",
    "def get_adj_matrix(structure):\n",
    "    couples = find_couples(structure)\n",
    "    mat = to_matrix(couples, len(structure))\n",
    "    return mat\n",
    "\n",
    "def preprocess(df):\n",
    "    inputs = np.transpose(\n",
    "        np.array(\n",
    "            df[['sequence', 'structure', 'predicted_loop_type']]\n",
    "            .applymap(lambda seq: [token2int[x] for x in seq])\n",
    "            .values\n",
    "            .tolist()\n",
    "        ),\n",
    "        (0, 2, 1)\n",
    "    )\n",
    "    \n",
    "    adj_matrix = np.array(df['structure'].apply(get_adj_matrix).values.tolist())\n",
    "    \n",
    "    return inputs, adj_matrix"
   ]
  },
  {
   "source": [
    "# Setting up GraphSAGE"
   ],
   "cell_type": "markdown",
   "metadata": {}
  },
  {
   "cell_type": "code",
   "execution_count": 6,
   "metadata": {},
   "outputs": [],
   "source": [
    "input_cols = ['reactivity', 'deg_Mg_pH10', 'deg_pH10', 'deg_Mg_50C', 'deg_50C']\n",
    "\n",
    "inputs, adjacency_matrix = preprocess(train)\n",
    "labels = np.array(train[input_cols].values.tolist()).transpose((0, 2, 1))\n",
    "\n",
    "train_inputs = torch.tensor(inputs, dtype=torch.long)\n",
    "train_adj = torch.tensor(adjacency_matrix, dtype=torch.long)\n",
    "train_labels = torch.tensor(labels, dtype=torch.float32)"
   ]
  },
  {
   "cell_type": "code",
   "execution_count": 7,
   "metadata": {},
   "outputs": [],
   "source": [
    "class AverageMeter:\n",
    "    def __init__(self):\n",
    "        self.reset()\n",
    "\n",
    "    def reset(self):\n",
    "        self.val = 0\n",
    "        self.avg = 0\n",
    "        self.sum = 0\n",
    "        self.count = 0\n",
    "\n",
    "    def update(self, val, n=1):\n",
    "        self.val = val\n",
    "        self.sum += val * n\n",
    "        self.count += n\n",
    "        self.avg = self.sum / self.count"
   ]
  },
  {
   "cell_type": "code",
   "execution_count": 8,
   "metadata": {},
   "outputs": [],
   "source": [
    "# Some of this is based on approaches from other notebooks\n",
    "class GCN(nn.Module):\n",
    "    def __init__(self, input_dim, output_dim, aggregator='mean'):\n",
    "        super(GCN, self).__init__()\n",
    "        self.aggregator = aggregator\n",
    "\n",
    "        linear_input_dim = input_dim * 2\n",
    "        self.linear_gcn = nn.Linear(in_features=linear_input_dim, out_features=output_dim)\n",
    "        \n",
    "    def forward(self, input_, adj_matrix):\n",
    "        adj_matrix = adj_matrix.type(torch.float32)\n",
    "        sum_adj = torch.sum(adj_matrix, axis=2)\n",
    "        sum_adj[sum_adj==0] = 1\n",
    "\n",
    "        feature_agg = torch.bmm(adj_matrix, input_)\n",
    "        feature_agg = feature_agg / sum_adj.unsqueeze(dim=2)\n",
    "        feature_cat = torch.cat((input_, feature_agg), axis=2)\n",
    "\n",
    "        feature = torch.sigmoid(self.linear_gcn(feature_cat))\n",
    "        feature = feature / torch.norm(feature, p=2, dim=2).unsqueeze(dim=2)\n",
    "        \n",
    "        return feature\n",
    "        \n",
    "    \n",
    "class Net(nn.Module):\n",
    "    def __init__(self, num_embedding=14, seq_len=107, pred_len=68, dropout=0.5, \n",
    "                 embed_dim=100, hidden_dim=128, K=1, aggregator='mean'):\n",
    "        super(Net, self).__init__()\n",
    "        \n",
    "        self.pred_len = pred_len\n",
    "        self.embedding_layer = nn.Embedding(num_embeddings=num_embedding, \n",
    "                                      embedding_dim=embed_dim)\n",
    "        \n",
    "        self.gcn = nn.ModuleList([GCN(3 * embed_dim, 3 * embed_dim, aggregator=aggregator) for i in range(K)])\n",
    "        \n",
    "        self.gru_layer = nn.GRU(input_size=3 * embed_dim, \n",
    "                          hidden_size=hidden_dim, \n",
    "                          num_layers=3, \n",
    "                          batch_first=True, \n",
    "                          dropout=dropout, \n",
    "                          bidirectional=True)\n",
    "        \n",
    "        self.linear_layer = nn.Linear(in_features=2 * hidden_dim, \n",
    "                                out_features=5)\n",
    "        \n",
    "    def forward(self, input_, adj_matrix):\n",
    "        embedding = self.embedding_layer(input_)\n",
    "        embedding = torch.reshape(embedding, (-1, embedding.shape[1], embedding.shape[2] * embedding.shape[3]))\n",
    "\n",
    "        gcn_feature = embedding\n",
    "        for gcn_layer in self.gcn:\n",
    "            gcn_feature = gcn_layer(gcn_feature, adj_matrix)\n",
    "\n",
    "        gru_output, gru_hidden = self.gru_layer(gcn_feature)\n",
    "        truncated = gru_output[:, :self.pred_len]\n",
    "        \n",
    "        output = self.linear_layer(truncated)\n",
    "        \n",
    "        return output"
   ]
  },
  {
   "source": [
    "# Run"
   ],
   "cell_type": "markdown",
   "metadata": {}
  },
  {
   "cell_type": "code",
   "execution_count": 9,
   "metadata": {},
   "outputs": [],
   "source": [
    "def train_fn(epoch, model, train_loader, criterion, optimizer):\n",
    "    model.train()\n",
    "    model.zero_grad()\n",
    "    train_loss = AverageMeter()\n",
    "    \n",
    "    for index, (input_, adj, label) in enumerate(train_loader):\n",
    "        input_ = input_.cuda()\n",
    "        adj = adj.cuda()\n",
    "        label = label.cuda()\n",
    "        preds = model(input_, adj)\n",
    "        \n",
    "        loss = criterion(preds, label)\n",
    "        \n",
    "        optimizer.zero_grad()\n",
    "        loss.backward()\n",
    "        optimizer.step()\n",
    "        \n",
    "        train_loss.update(loss.item())\n",
    "    \n",
    "    print(f\"Train loss {train_loss.avg}\")\n",
    "    return train_loss.avg\n",
    "    \n",
    "def eval_fn(epoch, model, valid_loader, criterion):\n",
    "    model.eval()\n",
    "    eval_loss = AverageMeter()\n",
    "    \n",
    "    for index, (input_, adj, label) in enumerate(valid_loader):\n",
    "        input_ = input_.cuda()\n",
    "        adj = adj.cuda()\n",
    "        label = label.cuda()\n",
    "        preds = model(input_, adj)\n",
    "        \n",
    "        loss = criterion(preds, label)\n",
    "        eval_loss.update(loss.item())\n",
    "    \n",
    "    print(f\"Valid loss {eval_loss.avg}\")\n",
    "    return eval_loss.avg"
   ]
  },
  {
   "cell_type": "code",
   "execution_count": 10,
   "metadata": {},
   "outputs": [],
   "source": [
    "def run(fold, train_loader, valid_loader):\n",
    "    model = Net(K=K)\n",
    "    model.cuda()\n",
    "    criterion = torch.nn.MSELoss()\n",
    "    optimizer = torch.optim.Adam(params=model.parameters(), lr=learning_rate, weight_decay=0.0)\n",
    "\n",
    "    train_losses = []\n",
    "    eval_losses = []\n",
    "    for epoch in range(n_epoch):\n",
    "        print('#################')\n",
    "        print('Epoch #', epoch)\n",
    "        \n",
    "        train_loss = train_fn(epoch, model, train_loader, criterion, optimizer)\n",
    "        eval_loss = eval_fn(epoch, model, valid_loader, criterion)\n",
    "        train_losses.append(train_loss)\n",
    "        eval_losses.append(eval_loss)\n",
    "        \n",
    "    torch.save(model.state_dict(), f'../pretrain/gcn_gru_{fold}.pt')\n",
    "    return train_losses, eval_losses"
   ]
  },
  {
   "cell_type": "code",
   "execution_count": 15,
   "metadata": {},
   "outputs": [
    {
     "name": "stdout",
     "output_type": "stream",
     "text": [
      "#################\n",
      "Epoch # 0\n"
     ]
    },
    {
     "ename": "KeyboardInterrupt",
     "evalue": "",
     "output_type": "error",
     "traceback": [
      "\u001B[1;31m---------------------------------------------------------------------------\u001B[0m",
      "\u001B[1;31mKeyboardInterrupt\u001B[0m                         Traceback (most recent call last)",
      "\u001B[1;32m<ipython-input-15-14f908a0f4f6>\u001B[0m in \u001B[0;36m<module>\u001B[1;34m\u001B[0m\n\u001B[0;32m      8\u001B[0m     \u001B[0mvalid_loader\u001B[0m \u001B[1;33m=\u001B[0m \u001B[0mDataLoader\u001B[0m\u001B[1;33m(\u001B[0m\u001B[0mvalid_dataset\u001B[0m\u001B[1;33m,\u001B[0m \u001B[0mbatch_size\u001B[0m\u001B[1;33m=\u001B[0m\u001B[0mbatch_size\u001B[0m\u001B[1;33m,\u001B[0m \u001B[0mshuffle\u001B[0m\u001B[1;33m=\u001B[0m\u001B[1;32mFalse\u001B[0m\u001B[1;33m,\u001B[0m \u001B[0mnum_workers\u001B[0m\u001B[1;33m=\u001B[0m\u001B[1;36m8\u001B[0m\u001B[1;33m)\u001B[0m\u001B[1;33m\u001B[0m\u001B[1;33m\u001B[0m\u001B[0m\n\u001B[0;32m      9\u001B[0m \u001B[1;33m\u001B[0m\u001B[0m\n\u001B[1;32m---> 10\u001B[1;33m     \u001B[0mtrain_losses\u001B[0m\u001B[1;33m,\u001B[0m \u001B[0meval_losses\u001B[0m \u001B[1;33m=\u001B[0m \u001B[0mrun\u001B[0m\u001B[1;33m(\u001B[0m\u001B[0mfold\u001B[0m\u001B[1;33m,\u001B[0m \u001B[0mtrain_loader\u001B[0m\u001B[1;33m,\u001B[0m \u001B[0mvalid_loader\u001B[0m\u001B[1;33m)\u001B[0m\u001B[1;33m\u001B[0m\u001B[1;33m\u001B[0m\u001B[0m\n\u001B[0m",
      "\u001B[1;32m<ipython-input-10-a4db3777a4a2>\u001B[0m in \u001B[0;36mrun\u001B[1;34m(fold, train_loader, valid_loader)\u001B[0m\n\u001B[0;32m     11\u001B[0m         \u001B[0mprint\u001B[0m\u001B[1;33m(\u001B[0m\u001B[1;34m'Epoch #'\u001B[0m\u001B[1;33m,\u001B[0m \u001B[0mepoch\u001B[0m\u001B[1;33m)\u001B[0m\u001B[1;33m\u001B[0m\u001B[1;33m\u001B[0m\u001B[0m\n\u001B[0;32m     12\u001B[0m \u001B[1;33m\u001B[0m\u001B[0m\n\u001B[1;32m---> 13\u001B[1;33m         \u001B[0mtrain_loss\u001B[0m \u001B[1;33m=\u001B[0m \u001B[0mtrain_fn\u001B[0m\u001B[1;33m(\u001B[0m\u001B[0mepoch\u001B[0m\u001B[1;33m,\u001B[0m \u001B[0mmodel\u001B[0m\u001B[1;33m,\u001B[0m \u001B[0mtrain_loader\u001B[0m\u001B[1;33m,\u001B[0m \u001B[0mcriterion\u001B[0m\u001B[1;33m,\u001B[0m \u001B[0moptimizer\u001B[0m\u001B[1;33m)\u001B[0m\u001B[1;33m\u001B[0m\u001B[1;33m\u001B[0m\u001B[0m\n\u001B[0m\u001B[0;32m     14\u001B[0m         \u001B[0meval_loss\u001B[0m \u001B[1;33m=\u001B[0m \u001B[0meval_fn\u001B[0m\u001B[1;33m(\u001B[0m\u001B[0mepoch\u001B[0m\u001B[1;33m,\u001B[0m \u001B[0mmodel\u001B[0m\u001B[1;33m,\u001B[0m \u001B[0mvalid_loader\u001B[0m\u001B[1;33m,\u001B[0m \u001B[0mcriterion\u001B[0m\u001B[1;33m)\u001B[0m\u001B[1;33m\u001B[0m\u001B[1;33m\u001B[0m\u001B[0m\n\u001B[0;32m     15\u001B[0m         \u001B[0mtrain_losses\u001B[0m\u001B[1;33m.\u001B[0m\u001B[0mappend\u001B[0m\u001B[1;33m(\u001B[0m\u001B[0mtrain_loss\u001B[0m\u001B[1;33m)\u001B[0m\u001B[1;33m\u001B[0m\u001B[1;33m\u001B[0m\u001B[0m\n",
      "\u001B[1;32m<ipython-input-9-bf3ccff7c38e>\u001B[0m in \u001B[0;36mtrain_fn\u001B[1;34m(epoch, model, train_loader, criterion, optimizer)\u001B[0m\n\u001B[0;32m     13\u001B[0m \u001B[1;33m\u001B[0m\u001B[0m\n\u001B[0;32m     14\u001B[0m         \u001B[0moptimizer\u001B[0m\u001B[1;33m.\u001B[0m\u001B[0mzero_grad\u001B[0m\u001B[1;33m(\u001B[0m\u001B[1;33m)\u001B[0m\u001B[1;33m\u001B[0m\u001B[1;33m\u001B[0m\u001B[0m\n\u001B[1;32m---> 15\u001B[1;33m         \u001B[0mloss\u001B[0m\u001B[1;33m.\u001B[0m\u001B[0mbackward\u001B[0m\u001B[1;33m(\u001B[0m\u001B[1;33m)\u001B[0m\u001B[1;33m\u001B[0m\u001B[1;33m\u001B[0m\u001B[0m\n\u001B[0m\u001B[0;32m     16\u001B[0m         \u001B[0moptimizer\u001B[0m\u001B[1;33m.\u001B[0m\u001B[0mstep\u001B[0m\u001B[1;33m(\u001B[0m\u001B[1;33m)\u001B[0m\u001B[1;33m\u001B[0m\u001B[1;33m\u001B[0m\u001B[0m\n\u001B[0;32m     17\u001B[0m \u001B[1;33m\u001B[0m\u001B[0m\n",
      "\u001B[1;32m~\\miniconda3\\envs\\graph_mining\\lib\\site-packages\\torch\\tensor.py\u001B[0m in \u001B[0;36mbackward\u001B[1;34m(self, gradient, retain_graph, create_graph)\u001B[0m\n\u001B[0;32m    219\u001B[0m                 \u001B[0mretain_graph\u001B[0m\u001B[1;33m=\u001B[0m\u001B[0mretain_graph\u001B[0m\u001B[1;33m,\u001B[0m\u001B[1;33m\u001B[0m\u001B[1;33m\u001B[0m\u001B[0m\n\u001B[0;32m    220\u001B[0m                 create_graph=create_graph)\n\u001B[1;32m--> 221\u001B[1;33m         \u001B[0mtorch\u001B[0m\u001B[1;33m.\u001B[0m\u001B[0mautograd\u001B[0m\u001B[1;33m.\u001B[0m\u001B[0mbackward\u001B[0m\u001B[1;33m(\u001B[0m\u001B[0mself\u001B[0m\u001B[1;33m,\u001B[0m \u001B[0mgradient\u001B[0m\u001B[1;33m,\u001B[0m \u001B[0mretain_graph\u001B[0m\u001B[1;33m,\u001B[0m \u001B[0mcreate_graph\u001B[0m\u001B[1;33m)\u001B[0m\u001B[1;33m\u001B[0m\u001B[1;33m\u001B[0m\u001B[0m\n\u001B[0m\u001B[0;32m    222\u001B[0m \u001B[1;33m\u001B[0m\u001B[0m\n\u001B[0;32m    223\u001B[0m     \u001B[1;32mdef\u001B[0m \u001B[0mregister_hook\u001B[0m\u001B[1;33m(\u001B[0m\u001B[0mself\u001B[0m\u001B[1;33m,\u001B[0m \u001B[0mhook\u001B[0m\u001B[1;33m)\u001B[0m\u001B[1;33m:\u001B[0m\u001B[1;33m\u001B[0m\u001B[1;33m\u001B[0m\u001B[0m\n",
      "\u001B[1;32m~\\miniconda3\\envs\\graph_mining\\lib\\site-packages\\torch\\autograd\\__init__.py\u001B[0m in \u001B[0;36mbackward\u001B[1;34m(tensors, grad_tensors, retain_graph, create_graph, grad_variables)\u001B[0m\n\u001B[0;32m    128\u001B[0m         \u001B[0mretain_graph\u001B[0m \u001B[1;33m=\u001B[0m \u001B[0mcreate_graph\u001B[0m\u001B[1;33m\u001B[0m\u001B[1;33m\u001B[0m\u001B[0m\n\u001B[0;32m    129\u001B[0m \u001B[1;33m\u001B[0m\u001B[0m\n\u001B[1;32m--> 130\u001B[1;33m     Variable._execution_engine.run_backward(\n\u001B[0m\u001B[0;32m    131\u001B[0m         \u001B[0mtensors\u001B[0m\u001B[1;33m,\u001B[0m \u001B[0mgrad_tensors_\u001B[0m\u001B[1;33m,\u001B[0m \u001B[0mretain_graph\u001B[0m\u001B[1;33m,\u001B[0m \u001B[0mcreate_graph\u001B[0m\u001B[1;33m,\u001B[0m\u001B[1;33m\u001B[0m\u001B[1;33m\u001B[0m\u001B[0m\n\u001B[0;32m    132\u001B[0m         allow_unreachable=True)  # allow_unreachable flag\n",
      "\u001B[1;31mKeyboardInterrupt\u001B[0m: "
     ]
    }
   ],
   "source": [
    "splits = KFold(n_splits=n_split, shuffle=True).split(train_inputs)\n",
    "\n",
    "for fold, (train_idx, val_idx) in enumerate(splits):\n",
    "    train_dataset = TensorDataset(train_inputs[train_idx], train_adj[train_idx], train_labels[train_idx])\n",
    "    train_loader = DataLoader(train_dataset, batch_size=batch_size, shuffle=True, num_workers=8)\n",
    "    \n",
    "    valid_dataset = TensorDataset(train_inputs[val_idx], train_adj[val_idx], train_labels[val_idx])\n",
    "    valid_loader = DataLoader(valid_dataset, batch_size=batch_size, shuffle=False, num_workers=8)\n",
    "    \n",
    "    train_losses, eval_losses = run(fold, train_loader, valid_loader)"
   ]
  },
  {
   "source": [
    "# Results"
   ],
   "cell_type": "markdown",
   "metadata": {}
  },
  {
   "cell_type": "code",
   "execution_count": 11,
   "metadata": {},
   "outputs": [],
   "source": [
    "torch.cuda.empty_cache()"
   ]
  },
  {
   "cell_type": "code",
   "execution_count": 17,
   "metadata": {},
   "outputs": [],
   "source": [
    "df = test.query(\"seq_length == 107\").copy()\n",
    "inputs, adj = preprocess(df)\n",
    "inputs = torch.tensor(inputs, dtype=torch.long)\n",
    "adj = torch.tensor(adj, dtype=torch.long)"
   ]
  },
  {
   "cell_type": "code",
   "execution_count": 18,
   "metadata": {},
   "outputs": [],
   "source": [
    "model_short = Net(seq_len=107, pred_len=107, K=K, aggregator=gcn_agg)\n",
    "\n",
    "list_public_preds = []\n",
    "\n",
    "fold = n_split - 1\n",
    "model_short.load_state_dict(torch.load(f'../pretrain/gcn_gru_{fold}.pt'))\n",
    "model_short.cuda()\n",
    "model_short.eval()\n",
    "\n",
    "public_preds = model_short(inputs.cuda(), adj.cuda())\n",
    "public_preds = public_preds.cpu().detach().numpy()\n",
    "\n",
    "list_public_preds.append(public_preds)"
   ]
  },
  {
   "cell_type": "code",
   "execution_count": 19,
   "metadata": {},
   "outputs": [],
   "source": [
    "public_preds = np.mean(list_public_preds, axis=0)"
   ]
  },
  {
   "cell_type": "code",
   "execution_count": 20,
   "metadata": {},
   "outputs": [],
   "source": [
    "preds_ls = []\n",
    "for df, preds in [(df, public_preds)]:\n",
    "    for i, uid in enumerate(df.id):\n",
    "        single_pred = preds[i]\n",
    "        single_df = pd.DataFrame(single_pred, columns=pred_cols)\n",
    "        single_df['id_seqpos'] = [f'{uid}_{x}' for x in range(single_df.shape[0])]\n",
    "        preds_ls.append(single_df)\n",
    "\n",
    "preds_df = pd.concat(preds_ls)"
   ]
  },
  {
   "cell_type": "code",
   "execution_count": 29,
   "outputs": [
    {
     "data": {
      "text/plain": "   reactivity  deg_Mg_pH10  deg_pH10  deg_Mg_50C   deg_50C       id_seqpos\n0    0.796480     0.817199  2.404769    0.671065  0.894505  id_00073f8be_0\n1    2.038140     2.978654  3.758822    2.898176  2.457148  id_00073f8be_1\n2    1.340118     0.688608  0.759216    1.042059  1.104296  id_00073f8be_2\n3    1.199431     0.882305  0.879559    1.198951  1.123376  id_00073f8be_3\n4    0.904199     0.709620  0.776070    0.923665  0.929978  id_00073f8be_4",
      "text/html": "<div>\n<style scoped>\n    .dataframe tbody tr th:only-of-type {\n        vertical-align: middle;\n    }\n\n    .dataframe tbody tr th {\n        vertical-align: top;\n    }\n\n    .dataframe thead th {\n        text-align: right;\n    }\n</style>\n<table border=\"1\" class=\"dataframe\">\n  <thead>\n    <tr style=\"text-align: right;\">\n      <th></th>\n      <th>reactivity</th>\n      <th>deg_Mg_pH10</th>\n      <th>deg_pH10</th>\n      <th>deg_Mg_50C</th>\n      <th>deg_50C</th>\n      <th>id_seqpos</th>\n    </tr>\n  </thead>\n  <tbody>\n    <tr>\n      <th>0</th>\n      <td>0.796480</td>\n      <td>0.817199</td>\n      <td>2.404769</td>\n      <td>0.671065</td>\n      <td>0.894505</td>\n      <td>id_00073f8be_0</td>\n    </tr>\n    <tr>\n      <th>1</th>\n      <td>2.038140</td>\n      <td>2.978654</td>\n      <td>3.758822</td>\n      <td>2.898176</td>\n      <td>2.457148</td>\n      <td>id_00073f8be_1</td>\n    </tr>\n    <tr>\n      <th>2</th>\n      <td>1.340118</td>\n      <td>0.688608</td>\n      <td>0.759216</td>\n      <td>1.042059</td>\n      <td>1.104296</td>\n      <td>id_00073f8be_2</td>\n    </tr>\n    <tr>\n      <th>3</th>\n      <td>1.199431</td>\n      <td>0.882305</td>\n      <td>0.879559</td>\n      <td>1.198951</td>\n      <td>1.123376</td>\n      <td>id_00073f8be_3</td>\n    </tr>\n    <tr>\n      <th>4</th>\n      <td>0.904199</td>\n      <td>0.709620</td>\n      <td>0.776070</td>\n      <td>0.923665</td>\n      <td>0.929978</td>\n      <td>id_00073f8be_4</td>\n    </tr>\n  </tbody>\n</table>\n</div>"
     },
     "execution_count": 29,
     "metadata": {},
     "output_type": "execute_result"
    }
   ],
   "source": [
    "preds_df.to_csv(\"../data/predictions\", index=False)\n",
    "preds_df.head()"
   ],
   "metadata": {
    "collapsed": false,
    "pycharm": {
     "name": "#%%\n"
    }
   }
  },
  {
   "cell_type": "markdown",
   "source": [
    "# Graphs"
   ],
   "metadata": {
    "collapsed": false,
    "pycharm": {
     "name": "#%% md\n"
    }
   }
  },
  {
   "cell_type": "code",
   "execution_count": 23,
   "outputs": [
    {
     "data": {
      "text/plain": "<Figure size 1008x720 with 2 Axes>",
      "image/png": "[encoded data removed]"
     },
     "metadata": {
      "needs_background": "light"
     },
     "output_type": "display_data"
    }
   ],
   "source": [
    "fig = plt.figure(figsize=(14,10))\n",
    "ax = sns.heatmap(preds_df.corr())\n",
    "plt.savefig('../figures/corr_heapmap')\n",
    "plt.show()"
   ],
   "metadata": {
    "collapsed": false,
    "pycharm": {
     "name": "#%%\n"
    }
   }
  },
  {
   "cell_type": "code",
   "execution_count": 28,
   "outputs": [
    {
     "data": {
      "text/plain": "<Figure size 432x288 with 1 Axes>",
      "image/png": "[encoded data removed]"
     },
     "metadata": {
      "needs_background": "light"
     },
     "output_type": "display_data"
    }
   ],
   "source": [
    "sns.scatterplot(data=preds_df, x=\"deg_pH10\", y=\"reactivity\")\n",
    "plt.savefig(\"../figures/scatter\")\n",
    "plt.show()\n",
    "\n"
   ],
   "metadata": {
    "collapsed": false,
    "pycharm": {
     "name": "#%%\n"
    }
   }
  }
 ]
}