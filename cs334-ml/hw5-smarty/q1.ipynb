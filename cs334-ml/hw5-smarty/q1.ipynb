{
 "metadata": {
  "language_info": {
   "codemirror_mode": {
    "name": "ipython",
    "version": 3
   },
   "file_extension": ".py",
   "mimetype": "text/x-python",
   "name": "python",
   "nbconvert_exporter": "python",
   "pygments_lexer": "ipython3",
   "version": "3.7.9-final"
  },
  "orig_nbformat": 2,
  "kernelspec": {
   "name": "python3",
   "language": "python",
   "display_name": "Python 3"
  }
 },
 "nbformat": 4,
 "nbformat_minor": 2,
 "cells": [
  {
   "cell_type": "code",
   "execution_count": 14,
   "metadata": {},
   "outputs": [],
   "source": [
    "import pandas as pd\n",
    "import matplotlib.pyplot as plt\n",
    "from sklearn.linear_model import LogisticRegression\n",
    "from sklearn.decomposition import PCA\n",
    "from sklearn.preprocessing import MinMaxScaler\n",
    "from sklearn.metrics import roc_curve"
   ]
  },
  {
   "cell_type": "code",
   "execution_count": 15,
   "metadata": {},
   "outputs": [],
   "source": [
    "datasets = {\n",
    "    'x_train': pd.read_csv('q4xTrain.csv'),\n",
    "    'x_test': pd.read_csv('q4xTest.csv'),\n",
    "    'y_train': pd.read_csv('q4yTrain.csv')['label'],\n",
    "    'y_test': pd.read_csv('q4yTest.csv')['label']\n",
    "}"
   ]
  },
  {
   "cell_type": "code",
   "execution_count": 16,
   "metadata": {},
   "outputs": [
    {
     "data": {
      "text/plain": "   fixed acidity  volatile acidity  citric acid  residual sugar  chlorides  \\\n0            7.3              0.74         0.08             1.7      0.094   \n1            8.0              0.71         0.00             2.6      0.080   \n2            8.0              0.50         0.39             2.6      0.082   \n3            8.9              0.40         0.32             5.6      0.087   \n4           12.5              0.38         0.60             2.6      0.081   \n\n   free sulfur dioxide  total sulfur dioxide  density    pH  sulphates  \\\n0                 10.0                  45.0  0.99576  3.24       0.50   \n1                 11.0                  34.0  0.99760  3.44       0.53   \n2                 12.0                  46.0  0.99850  3.43       0.62   \n3                 10.0                  47.0  0.99910  3.38       0.77   \n4                 31.0                  72.0  0.99960  3.10       0.73   \n\n   alcohol  \n0      9.8  \n1      9.5  \n2     10.7  \n3     10.5  \n4     10.5  ",
      "text/html": "<div>\n<style scoped>\n    .dataframe tbody tr th:only-of-type {\n        vertical-align: middle;\n    }\n\n    .dataframe tbody tr th {\n        vertical-align: top;\n    }\n\n    .dataframe thead th {\n        text-align: right;\n    }\n</style>\n<table border=\"1\" class=\"dataframe\">\n  <thead>\n    <tr style=\"text-align: right;\">\n      <th></th>\n      <th>fixed acidity</th>\n      <th>volatile acidity</th>\n      <th>citric acid</th>\n      <th>residual sugar</th>\n      <th>chlorides</th>\n      <th>free sulfur dioxide</th>\n      <th>total sulfur dioxide</th>\n      <th>density</th>\n      <th>pH</th>\n      <th>sulphates</th>\n      <th>alcohol</th>\n    </tr>\n  </thead>\n  <tbody>\n    <tr>\n      <th>0</th>\n      <td>7.3</td>\n      <td>0.74</td>\n      <td>0.08</td>\n      <td>1.7</td>\n      <td>0.094</td>\n      <td>10.0</td>\n      <td>45.0</td>\n      <td>0.99576</td>\n      <td>3.24</td>\n      <td>0.50</td>\n      <td>9.8</td>\n    </tr>\n    <tr>\n      <th>1</th>\n      <td>8.0</td>\n      <td>0.71</td>\n      <td>0.00</td>\n      <td>2.6</td>\n      <td>0.080</td>\n      <td>11.0</td>\n      <td>34.0</td>\n      <td>0.99760</td>\n      <td>3.44</td>\n      <td>0.53</td>\n      <td>9.5</td>\n    </tr>\n    <tr>\n      <th>2</th>\n      <td>8.0</td>\n      <td>0.50</td>\n      <td>0.39</td>\n      <td>2.6</td>\n      <td>0.082</td>\n      <td>12.0</td>\n      <td>46.0</td>\n      <td>0.99850</td>\n      <td>3.43</td>\n      <td>0.62</td>\n      <td>10.7</td>\n    </tr>\n    <tr>\n      <th>3</th>\n      <td>8.9</td>\n      <td>0.40</td>\n      <td>0.32</td>\n      <td>5.6</td>\n      <td>0.087</td>\n      <td>10.0</td>\n      <td>47.0</td>\n      <td>0.99910</td>\n      <td>3.38</td>\n      <td>0.77</td>\n      <td>10.5</td>\n    </tr>\n    <tr>\n      <th>4</th>\n      <td>12.5</td>\n      <td>0.38</td>\n      <td>0.60</td>\n      <td>2.6</td>\n      <td>0.081</td>\n      <td>31.0</td>\n      <td>72.0</td>\n      <td>0.99960</td>\n      <td>3.10</td>\n      <td>0.73</td>\n      <td>10.5</td>\n    </tr>\n  </tbody>\n</table>\n</div>"
     },
     "execution_count": 16,
     "metadata": {},
     "output_type": "execute_result"
    }
   ],
   "source": [
    "datasets['x_train'].head()"
   ]
  },
  {
   "cell_type": "code",
   "execution_count": 17,
   "metadata": {},
   "outputs": [
    {
     "data": {
      "text/plain": "   total sulfur dioxide  fixed acidity  density\n0                  45.0            7.3  0.99576\n1                  34.0            8.0  0.99760\n2                  46.0            8.0  0.99850\n3                  47.0            8.9  0.99910\n4                  72.0           12.5  0.99960",
      "text/html": "<div>\n<style scoped>\n    .dataframe tbody tr th:only-of-type {\n        vertical-align: middle;\n    }\n\n    .dataframe tbody tr th {\n        vertical-align: top;\n    }\n\n    .dataframe thead th {\n        text-align: right;\n    }\n</style>\n<table border=\"1\" class=\"dataframe\">\n  <thead>\n    <tr style=\"text-align: right;\">\n      <th></th>\n      <th>total sulfur dioxide</th>\n      <th>fixed acidity</th>\n      <th>density</th>\n    </tr>\n  </thead>\n  <tbody>\n    <tr>\n      <th>0</th>\n      <td>45.0</td>\n      <td>7.3</td>\n      <td>0.99576</td>\n    </tr>\n    <tr>\n      <th>1</th>\n      <td>34.0</td>\n      <td>8.0</td>\n      <td>0.99760</td>\n    </tr>\n    <tr>\n      <th>2</th>\n      <td>46.0</td>\n      <td>8.0</td>\n      <td>0.99850</td>\n    </tr>\n    <tr>\n      <th>3</th>\n      <td>47.0</td>\n      <td>8.9</td>\n      <td>0.99910</td>\n    </tr>\n    <tr>\n      <th>4</th>\n      <td>72.0</td>\n      <td>12.5</td>\n      <td>0.99960</td>\n    </tr>\n  </tbody>\n</table>\n</div>"
     },
     "execution_count": 17,
     "metadata": {},
     "output_type": "execute_result"
    }
   ],
   "source": [
    "datasets['x_train'].sample(3, axis=1).head()"
   ]
  },
  {
   "cell_type": "code",
   "execution_count": 18,
   "metadata": {},
   "outputs": [],
   "source": [
    "def normalize(df: pd.DataFrame) -> pd.DataFrame:\n",
    "    scaler = MinMaxScaler()\n",
    "    return pd.DataFrame(scaler.fit_transform(df))"
   ]
  },
  {
   "cell_type": "code",
   "execution_count": 19,
   "metadata": {},
   "outputs": [],
   "source": [
    "datasets['x_train'] = normalize(datasets['x_train'])\n",
    "datasets['x_test'] = normalize(datasets['x_test'])"
   ]
  },
  {
   "cell_type": "code",
   "execution_count": 20,
   "metadata": {},
   "outputs": [
    {
     "data": {
      "text/plain": "         0         1     2         3         4         5         6         7   \\\n0  0.238938  0.424658  0.08  0.054795  0.136895  0.126761  0.245283  0.417768   \n1  0.300885  0.404110  0.00  0.116438  0.113523  0.140845  0.176101  0.552863   \n2  0.300885  0.260274  0.39  0.116438  0.116861  0.154930  0.251572  0.618943   \n3  0.380531  0.191781  0.32  0.321918  0.125209  0.126761  0.257862  0.662996   \n4  0.699115  0.178082  0.60  0.116438  0.115192  0.422535  0.415094  0.699706   \n\n         8         9         10  \n0  0.393701  0.079755  0.215385  \n1  0.551181  0.098160  0.169231  \n2  0.543307  0.153374  0.353846  \n3  0.503937  0.245399  0.323077  \n4  0.283465  0.220859  0.323077  ",
      "text/html": "<div>\n<style scoped>\n    .dataframe tbody tr th:only-of-type {\n        vertical-align: middle;\n    }\n\n    .dataframe tbody tr th {\n        vertical-align: top;\n    }\n\n    .dataframe thead th {\n        text-align: right;\n    }\n</style>\n<table border=\"1\" class=\"dataframe\">\n  <thead>\n    <tr style=\"text-align: right;\">\n      <th></th>\n      <th>0</th>\n      <th>1</th>\n      <th>2</th>\n      <th>3</th>\n      <th>4</th>\n      <th>5</th>\n      <th>6</th>\n      <th>7</th>\n      <th>8</th>\n      <th>9</th>\n      <th>10</th>\n    </tr>\n  </thead>\n  <tbody>\n    <tr>\n      <th>0</th>\n      <td>0.238938</td>\n      <td>0.424658</td>\n      <td>0.08</td>\n      <td>0.054795</td>\n      <td>0.136895</td>\n      <td>0.126761</td>\n      <td>0.245283</td>\n      <td>0.417768</td>\n      <td>0.393701</td>\n      <td>0.079755</td>\n      <td>0.215385</td>\n    </tr>\n    <tr>\n      <th>1</th>\n      <td>0.300885</td>\n      <td>0.404110</td>\n      <td>0.00</td>\n      <td>0.116438</td>\n      <td>0.113523</td>\n      <td>0.140845</td>\n      <td>0.176101</td>\n      <td>0.552863</td>\n      <td>0.551181</td>\n      <td>0.098160</td>\n      <td>0.169231</td>\n    </tr>\n    <tr>\n      <th>2</th>\n      <td>0.300885</td>\n      <td>0.260274</td>\n      <td>0.39</td>\n      <td>0.116438</td>\n      <td>0.116861</td>\n      <td>0.154930</td>\n      <td>0.251572</td>\n      <td>0.618943</td>\n      <td>0.543307</td>\n      <td>0.153374</td>\n      <td>0.353846</td>\n    </tr>\n    <tr>\n      <th>3</th>\n      <td>0.380531</td>\n      <td>0.191781</td>\n      <td>0.32</td>\n      <td>0.321918</td>\n      <td>0.125209</td>\n      <td>0.126761</td>\n      <td>0.257862</td>\n      <td>0.662996</td>\n      <td>0.503937</td>\n      <td>0.245399</td>\n      <td>0.323077</td>\n    </tr>\n    <tr>\n      <th>4</th>\n      <td>0.699115</td>\n      <td>0.178082</td>\n      <td>0.60</td>\n      <td>0.116438</td>\n      <td>0.115192</td>\n      <td>0.422535</td>\n      <td>0.415094</td>\n      <td>0.699706</td>\n      <td>0.283465</td>\n      <td>0.220859</td>\n      <td>0.323077</td>\n    </tr>\n  </tbody>\n</table>\n</div>"
     },
     "execution_count": 20,
     "metadata": {},
     "output_type": "execute_result"
    }
   ],
   "source": [
    "datasets['x_train'].head()"
   ]
  },
  {
   "cell_type": "code",
   "execution_count": 21,
   "metadata": {},
   "outputs": [
    {
     "data": {
      "text/plain": "0.8708333333333333"
     },
     "execution_count": 21,
     "metadata": {},
     "output_type": "execute_result"
    }
   ],
   "source": [
    "logistic = LogisticRegression(penalty='none')\n",
    "logistic.fit(datasets['x_train'], datasets['y_train'])\n",
    "logistic.score(datasets['x_test'], datasets['y_test'])"
   ]
  },
  {
   "cell_type": "code",
   "execution_count": 22,
   "metadata": {},
   "outputs": [
    {
     "data": {
      "text/plain": "PCA(n_components=0.95)"
     },
     "execution_count": 22,
     "metadata": {},
     "output_type": "execute_result"
    }
   ],
   "source": [
    "pca = PCA(n_components= 0.95)\n",
    "pca.fit(datasets['x_train'], datasets['y_train'])"
   ]
  },
  {
   "cell_type": "code",
   "execution_count": 23,
   "metadata": {},
   "outputs": [],
   "source": [
    "\n",
    "transformed_data = {}\n",
    "transformed_data['x_train'] = pca.transform(datasets['x_train'])\n",
    "transformed_data['x_test'] = pca.transform(datasets['x_test'])"
   ]
  },
  {
   "cell_type": "code",
   "execution_count": 24,
   "metadata": {},
   "outputs": [
    {
     "data": {
      "text/plain": "         0         1         2         3         4         5         6   \\\n0  0.516005 -0.216783  0.659618  0.069609  0.069190 -0.070419 -0.017542   \n1 -0.043845  0.055450 -0.004601  0.072068  0.034932  0.468589  0.811551   \n2 -0.126606 -0.302820  0.307587  0.008599 -0.064755  0.261745  0.194942   \n3  0.345624  0.442170 -0.193309  0.417466 -0.136432  0.162788 -0.006966   \n4 -0.249667 -0.209510  0.012746  0.243980  0.226836  0.190165 -0.220047   \n5  0.078793  0.429272 -0.175787 -0.191407  0.373763 -0.181517  0.134635   \n6 -0.312479  0.195807  0.341246  0.239902  0.089953 -0.671755  0.364869   \n7 -0.238429 -0.141480 -0.109941  0.742200  0.203840  0.020429 -0.109743   \n\n         7         8         9         10  \n0  0.331899 -0.325976  0.135265 -0.045115  \n1  0.135593 -0.047086  0.027100 -0.298395  \n2 -0.419584  0.067290  0.113914  0.702372  \n3  0.381402  0.157379 -0.120355  0.493458  \n4  0.325214  0.442468  0.624303 -0.082146  \n5 -0.146648 -0.377419  0.590590  0.196108  \n6  0.067819  0.285217 -0.088923  0.060687  \n7 -0.171015 -0.512173 -0.105326 -0.059288  ",
      "text/html": "<div>\n<style scoped>\n    .dataframe tbody tr th:only-of-type {\n        vertical-align: middle;\n    }\n\n    .dataframe tbody tr th {\n        vertical-align: top;\n    }\n\n    .dataframe thead th {\n        text-align: right;\n    }\n</style>\n<table border=\"1\" class=\"dataframe\">\n  <thead>\n    <tr style=\"text-align: right;\">\n      <th></th>\n      <th>0</th>\n      <th>1</th>\n      <th>2</th>\n      <th>3</th>\n      <th>4</th>\n      <th>5</th>\n      <th>6</th>\n      <th>7</th>\n      <th>8</th>\n      <th>9</th>\n      <th>10</th>\n    </tr>\n  </thead>\n  <tbody>\n    <tr>\n      <th>0</th>\n      <td>0.516005</td>\n      <td>-0.216783</td>\n      <td>0.659618</td>\n      <td>0.069609</td>\n      <td>0.069190</td>\n      <td>-0.070419</td>\n      <td>-0.017542</td>\n      <td>0.331899</td>\n      <td>-0.325976</td>\n      <td>0.135265</td>\n      <td>-0.045115</td>\n    </tr>\n    <tr>\n      <th>1</th>\n      <td>-0.043845</td>\n      <td>0.055450</td>\n      <td>-0.004601</td>\n      <td>0.072068</td>\n      <td>0.034932</td>\n      <td>0.468589</td>\n      <td>0.811551</td>\n      <td>0.135593</td>\n      <td>-0.047086</td>\n      <td>0.027100</td>\n      <td>-0.298395</td>\n    </tr>\n    <tr>\n      <th>2</th>\n      <td>-0.126606</td>\n      <td>-0.302820</td>\n      <td>0.307587</td>\n      <td>0.008599</td>\n      <td>-0.064755</td>\n      <td>0.261745</td>\n      <td>0.194942</td>\n      <td>-0.419584</td>\n      <td>0.067290</td>\n      <td>0.113914</td>\n      <td>0.702372</td>\n    </tr>\n    <tr>\n      <th>3</th>\n      <td>0.345624</td>\n      <td>0.442170</td>\n      <td>-0.193309</td>\n      <td>0.417466</td>\n      <td>-0.136432</td>\n      <td>0.162788</td>\n      <td>-0.006966</td>\n      <td>0.381402</td>\n      <td>0.157379</td>\n      <td>-0.120355</td>\n      <td>0.493458</td>\n    </tr>\n    <tr>\n      <th>4</th>\n      <td>-0.249667</td>\n      <td>-0.209510</td>\n      <td>0.012746</td>\n      <td>0.243980</td>\n      <td>0.226836</td>\n      <td>0.190165</td>\n      <td>-0.220047</td>\n      <td>0.325214</td>\n      <td>0.442468</td>\n      <td>0.624303</td>\n      <td>-0.082146</td>\n    </tr>\n    <tr>\n      <th>5</th>\n      <td>0.078793</td>\n      <td>0.429272</td>\n      <td>-0.175787</td>\n      <td>-0.191407</td>\n      <td>0.373763</td>\n      <td>-0.181517</td>\n      <td>0.134635</td>\n      <td>-0.146648</td>\n      <td>-0.377419</td>\n      <td>0.590590</td>\n      <td>0.196108</td>\n    </tr>\n    <tr>\n      <th>6</th>\n      <td>-0.312479</td>\n      <td>0.195807</td>\n      <td>0.341246</td>\n      <td>0.239902</td>\n      <td>0.089953</td>\n      <td>-0.671755</td>\n      <td>0.364869</td>\n      <td>0.067819</td>\n      <td>0.285217</td>\n      <td>-0.088923</td>\n      <td>0.060687</td>\n    </tr>\n    <tr>\n      <th>7</th>\n      <td>-0.238429</td>\n      <td>-0.141480</td>\n      <td>-0.109941</td>\n      <td>0.742200</td>\n      <td>0.203840</td>\n      <td>0.020429</td>\n      <td>-0.109743</td>\n      <td>-0.171015</td>\n      <td>-0.512173</td>\n      <td>-0.105326</td>\n      <td>-0.059288</td>\n    </tr>\n  </tbody>\n</table>\n</div>"
     },
     "execution_count": 24,
     "metadata": {},
     "output_type": "execute_result"
    }
   ],
   "source": [
    "pd.DataFrame(pca.components_, columns=datasets['x_train'].columns)"
   ]
  },
  {
   "cell_type": "code",
   "execution_count": 25,
   "metadata": {},
   "outputs": [
    {
     "data": {
      "text/plain": "0.8625"
     },
     "execution_count": 25,
     "metadata": {},
     "output_type": "execute_result"
    }
   ],
   "source": [
    "logisticPCA = LogisticRegression(penalty='none')\n",
    "logisticPCA.fit(transformed_data['x_train'], datasets['y_train'])\n",
    "logisticPCA.score(transformed_data['x_test'], datasets['y_test'])"
   ]
  },
  {
   "cell_type": "code",
   "execution_count": 26,
   "metadata": {},
   "outputs": [
    {
     "data": {
      "text/plain": "<Figure size 720x432 with 1 Axes>",
      "image/png": "[encoded data removed]"
     },
     "metadata": {
      "needs_background": "light"
     },
     "output_type": "display_data"
    }
   ],
   "source": [
    "falsepos, truepos, _ = roc_curve(datasets['y_test'], logistic.predict_proba(datasets['x_test'])[:, 1])\n",
    "falseposPCA, trueposPCA, _ = roc_curve(datasets['y_test'], logisticPCA.predict_proba(transformed_data['x_test'])[:, 1])\n",
    "\n",
    "plt.figure(figsize=(10, 6))\n",
    "plt.plot(falsepos, truepos, label=\"Without PCA\")\n",
    "plt.plot(falseposPCA, trueposPCA, label=\"With PCA\")\n",
    "plt.xlabel(\"False Positive Rate\")\n",
    "plt.ylabel(\"True Positive Rate\")\n",
    "plt.legend()\n",
    "plt.savefig(\"roc\")\n",
    "plt.show()"
   ]
  }
 ]
}