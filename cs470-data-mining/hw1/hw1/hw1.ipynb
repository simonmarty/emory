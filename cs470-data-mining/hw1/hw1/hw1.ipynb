{
 "cells": [
  {
   "cell_type": "markdown",
   "metadata": {
    "pycharm": {
     "name": "#%% md\n"
    }
   },
   "source": [
    "# CS 470 Homework 1 "
   ]
  },
  {
   "cell_type": "code",
   "execution_count": 166,
   "metadata": {
    "pycharm": {
     "is_executing": false
    }
   },
   "outputs": [
    {
     "data": {
      "text/html": [
       "<div>\n",
       "<style scoped>\n",
       "    .dataframe tbody tr th:only-of-type {\n",
       "        vertical-align: middle;\n",
       "    }\n",
       "\n",
       "    .dataframe tbody tr th {\n",
       "        vertical-align: top;\n",
       "    }\n",
       "\n",
       "    .dataframe thead th {\n",
       "        text-align: right;\n",
       "    }\n",
       "</style>\n",
       "<table border=\"1\" class=\"dataframe\">\n",
       "  <thead>\n",
       "    <tr style=\"text-align: right;\">\n",
       "      <th></th>\n",
       "      <th>Semester</th>\n",
       "      <th>Student ID</th>\n",
       "      <th>Name</th>\n",
       "      <th>Section</th>\n",
       "      <th>Homework 1</th>\n",
       "      <th>Homework 2</th>\n",
       "      <th>Homework 3</th>\n",
       "      <th>Homework 4</th>\n",
       "      <th>Homework 5</th>\n",
       "      <th>Peer Evaluations</th>\n",
       "      <th>...</th>\n",
       "      <th>Quiz 09</th>\n",
       "      <th>Quiz 10</th>\n",
       "      <th>Quiz 11</th>\n",
       "      <th>Quiz 12</th>\n",
       "      <th>Quiz Adjustment</th>\n",
       "      <th>Drop Lowest Quiz 1</th>\n",
       "      <th>Drop Lowest Quiz 2</th>\n",
       "      <th>Final Exam</th>\n",
       "      <th>Total Score</th>\n",
       "      <th>Letter Grade</th>\n",
       "    </tr>\n",
       "  </thead>\n",
       "  <tbody>\n",
       "    <tr>\n",
       "      <td>0</td>\n",
       "      <td>F18</td>\n",
       "      <td>457364</td>\n",
       "      <td>Youyang</td>\n",
       "      <td>8</td>\n",
       "      <td>32.0</td>\n",
       "      <td>40.0</td>\n",
       "      <td>34.0</td>\n",
       "      <td>34.0</td>\n",
       "      <td>42.0</td>\n",
       "      <td>150.0</td>\n",
       "      <td>...</td>\n",
       "      <td>36.0</td>\n",
       "      <td>40.0</td>\n",
       "      <td>47.0</td>\n",
       "      <td>13.0</td>\n",
       "      <td>NaN</td>\n",
       "      <td>-13</td>\n",
       "      <td>-22.0</td>\n",
       "      <td>123.0</td>\n",
       "      <td>841.0</td>\n",
       "      <td>B</td>\n",
       "    </tr>\n",
       "    <tr>\n",
       "      <td>1</td>\n",
       "      <td>F18</td>\n",
       "      <td>950536</td>\n",
       "      <td>Tait</td>\n",
       "      <td>2</td>\n",
       "      <td>35.0</td>\n",
       "      <td>40.0</td>\n",
       "      <td>34.0</td>\n",
       "      <td>32.0</td>\n",
       "      <td>40.0</td>\n",
       "      <td>150.0</td>\n",
       "      <td>...</td>\n",
       "      <td>15.0</td>\n",
       "      <td>39.0</td>\n",
       "      <td>46.0</td>\n",
       "      <td>46.0</td>\n",
       "      <td>NaN</td>\n",
       "      <td>0</td>\n",
       "      <td>-15.0</td>\n",
       "      <td>99.0</td>\n",
       "      <td>773.5</td>\n",
       "      <td>C+</td>\n",
       "    </tr>\n",
       "    <tr>\n",
       "      <td>2</td>\n",
       "      <td>F18</td>\n",
       "      <td>524131</td>\n",
       "      <td>Hafeez</td>\n",
       "      <td>1</td>\n",
       "      <td>39.0</td>\n",
       "      <td>40.0</td>\n",
       "      <td>42.0</td>\n",
       "      <td>29.0</td>\n",
       "      <td>42.0</td>\n",
       "      <td>150.0</td>\n",
       "      <td>...</td>\n",
       "      <td>27.0</td>\n",
       "      <td>41.0</td>\n",
       "      <td>40.0</td>\n",
       "      <td>8.0</td>\n",
       "      <td>NaN</td>\n",
       "      <td>-8</td>\n",
       "      <td>-19.0</td>\n",
       "      <td>117.0</td>\n",
       "      <td>834.0</td>\n",
       "      <td>B</td>\n",
       "    </tr>\n",
       "    <tr>\n",
       "      <td>3</td>\n",
       "      <td>F18</td>\n",
       "      <td>791499</td>\n",
       "      <td>Madhura</td>\n",
       "      <td>4</td>\n",
       "      <td>38.0</td>\n",
       "      <td>40.0</td>\n",
       "      <td>37.0</td>\n",
       "      <td>34.0</td>\n",
       "      <td>40.0</td>\n",
       "      <td>NaN</td>\n",
       "      <td>...</td>\n",
       "      <td>18.0</td>\n",
       "      <td>23.0</td>\n",
       "      <td>30.0</td>\n",
       "      <td>34.0</td>\n",
       "      <td>NaN</td>\n",
       "      <td>-18</td>\n",
       "      <td>-23.0</td>\n",
       "      <td>117.0</td>\n",
       "      <td>696.0</td>\n",
       "      <td>D+</td>\n",
       "    </tr>\n",
       "    <tr>\n",
       "      <td>4</td>\n",
       "      <td>F18</td>\n",
       "      <td>273342</td>\n",
       "      <td>Jeeyong</td>\n",
       "      <td>1</td>\n",
       "      <td>38.0</td>\n",
       "      <td>40.0</td>\n",
       "      <td>42.0</td>\n",
       "      <td>38.0</td>\n",
       "      <td>42.0</td>\n",
       "      <td>150.0</td>\n",
       "      <td>...</td>\n",
       "      <td>34.0</td>\n",
       "      <td>38.0</td>\n",
       "      <td>50.0</td>\n",
       "      <td>47.0</td>\n",
       "      <td>NaN</td>\n",
       "      <td>-34</td>\n",
       "      <td>-38.0</td>\n",
       "      <td>132.0</td>\n",
       "      <td>956.0</td>\n",
       "      <td>A</td>\n",
       "    </tr>\n",
       "  </tbody>\n",
       "</table>\n",
       "<p>5 rows × 29 columns</p>\n",
       "</div>"
      ],
      "text/plain": [
       "  Semester  Student ID     Name  Section  Homework 1  Homework 2  Homework 3  \\\n",
       "0      F18      457364  Youyang        8        32.0        40.0        34.0   \n",
       "1      F18      950536     Tait        2        35.0        40.0        34.0   \n",
       "2      F18      524131   Hafeez        1        39.0        40.0        42.0   \n",
       "3      F18      791499  Madhura        4        38.0        40.0        37.0   \n",
       "4      F18      273342  Jeeyong        1        38.0        40.0        42.0   \n",
       "\n",
       "   Homework 4  Homework 5  Peer Evaluations  ...  Quiz 09  Quiz 10  Quiz 11  \\\n",
       "0        34.0        42.0             150.0  ...     36.0     40.0     47.0   \n",
       "1        32.0        40.0             150.0  ...     15.0     39.0     46.0   \n",
       "2        29.0        42.0             150.0  ...     27.0     41.0     40.0   \n",
       "3        34.0        40.0               NaN  ...     18.0     23.0     30.0   \n",
       "4        38.0        42.0             150.0  ...     34.0     38.0     50.0   \n",
       "\n",
       "   Quiz 12  Quiz Adjustment  Drop Lowest Quiz 1  Drop Lowest Quiz 2  \\\n",
       "0     13.0              NaN                 -13               -22.0   \n",
       "1     46.0              NaN                   0               -15.0   \n",
       "2      8.0              NaN                  -8               -19.0   \n",
       "3     34.0              NaN                 -18               -23.0   \n",
       "4     47.0              NaN                 -34               -38.0   \n",
       "\n",
       "   Final Exam  Total Score  Letter Grade  \n",
       "0       123.0        841.0             B  \n",
       "1        99.0        773.5            C+  \n",
       "2       117.0        834.0             B  \n",
       "3       117.0        696.0            D+  \n",
       "4       132.0        956.0             A  \n",
       "\n",
       "[5 rows x 29 columns]"
      ]
     },
     "execution_count": 166,
     "metadata": {},
     "output_type": "execute_result"
    }
   ],
   "source": [
    "import pandas as pd\n",
    "import numpy as np\n",
    "from scipy.stats import zscore\n",
    "\n",
    "dataset = pd.read_csv(\"grades.csv\")\n",
    "dataset.head()"
   ]
  },
  {
   "cell_type": "markdown",
   "metadata": {
    "pycharm": {
     "name": "#%% md\n"
    }
   },
   "source": [
    "## Task 2: Missing Values\n",
    "\n",
    "The snippet of code below tries to find rows with missing values"
   ]
  },
  {
   "cell_type": "code",
   "execution_count": 80,
   "metadata": {
    "pycharm": {
     "is_executing": false
    }
   },
   "outputs": [
    {
     "data": {
      "text/html": [
       "<div>\n",
       "<style scoped>\n",
       "    .dataframe tbody tr th:only-of-type {\n",
       "        vertical-align: middle;\n",
       "    }\n",
       "\n",
       "    .dataframe tbody tr th {\n",
       "        vertical-align: top;\n",
       "    }\n",
       "\n",
       "    .dataframe thead th {\n",
       "        text-align: right;\n",
       "    }\n",
       "</style>\n",
       "<table border=\"1\" class=\"dataframe\">\n",
       "  <thead>\n",
       "    <tr style=\"text-align: right;\">\n",
       "      <th></th>\n",
       "      <th>Attribute</th>\n",
       "      <th># Missing</th>\n",
       "    </tr>\n",
       "  </thead>\n",
       "  <tbody>\n",
       "    <tr>\n",
       "      <td>4</td>\n",
       "      <td>Homework 1</td>\n",
       "      <td>18</td>\n",
       "    </tr>\n",
       "    <tr>\n",
       "      <td>5</td>\n",
       "      <td>Homework 2</td>\n",
       "      <td>17</td>\n",
       "    </tr>\n",
       "    <tr>\n",
       "      <td>6</td>\n",
       "      <td>Homework 3</td>\n",
       "      <td>26</td>\n",
       "    </tr>\n",
       "    <tr>\n",
       "      <td>7</td>\n",
       "      <td>Homework 4</td>\n",
       "      <td>30</td>\n",
       "    </tr>\n",
       "    <tr>\n",
       "      <td>8</td>\n",
       "      <td>Homework 5</td>\n",
       "      <td>43</td>\n",
       "    </tr>\n",
       "    <tr>\n",
       "      <td>9</td>\n",
       "      <td>Peer Evaluations</td>\n",
       "      <td>40</td>\n",
       "    </tr>\n",
       "    <tr>\n",
       "      <td>10</td>\n",
       "      <td>Bonus</td>\n",
       "      <td>769</td>\n",
       "    </tr>\n",
       "    <tr>\n",
       "      <td>11</td>\n",
       "      <td>Quiz 01</td>\n",
       "      <td>17</td>\n",
       "    </tr>\n",
       "    <tr>\n",
       "      <td>12</td>\n",
       "      <td>Quiz 02</td>\n",
       "      <td>26</td>\n",
       "    </tr>\n",
       "    <tr>\n",
       "      <td>13</td>\n",
       "      <td>Quiz 03</td>\n",
       "      <td>17</td>\n",
       "    </tr>\n",
       "    <tr>\n",
       "      <td>14</td>\n",
       "      <td>Quiz 04</td>\n",
       "      <td>32</td>\n",
       "    </tr>\n",
       "    <tr>\n",
       "      <td>15</td>\n",
       "      <td>Quiz 05</td>\n",
       "      <td>39</td>\n",
       "    </tr>\n",
       "    <tr>\n",
       "      <td>16</td>\n",
       "      <td>Quiz 06</td>\n",
       "      <td>50</td>\n",
       "    </tr>\n",
       "    <tr>\n",
       "      <td>17</td>\n",
       "      <td>Quiz 07</td>\n",
       "      <td>51</td>\n",
       "    </tr>\n",
       "    <tr>\n",
       "      <td>18</td>\n",
       "      <td>Quiz 08</td>\n",
       "      <td>48</td>\n",
       "    </tr>\n",
       "    <tr>\n",
       "      <td>19</td>\n",
       "      <td>Quiz 09</td>\n",
       "      <td>49</td>\n",
       "    </tr>\n",
       "    <tr>\n",
       "      <td>20</td>\n",
       "      <td>Quiz 10</td>\n",
       "      <td>53</td>\n",
       "    </tr>\n",
       "    <tr>\n",
       "      <td>21</td>\n",
       "      <td>Quiz 11</td>\n",
       "      <td>83</td>\n",
       "    </tr>\n",
       "    <tr>\n",
       "      <td>22</td>\n",
       "      <td>Quiz 12</td>\n",
       "      <td>79</td>\n",
       "    </tr>\n",
       "    <tr>\n",
       "      <td>23</td>\n",
       "      <td>Quiz Adjustment</td>\n",
       "      <td>774</td>\n",
       "    </tr>\n",
       "    <tr>\n",
       "      <td>26</td>\n",
       "      <td>Final Exam</td>\n",
       "      <td>41</td>\n",
       "    </tr>\n",
       "  </tbody>\n",
       "</table>\n",
       "</div>"
      ],
      "text/plain": [
       "           Attribute # Missing\n",
       "4         Homework 1        18\n",
       "5         Homework 2        17\n",
       "6         Homework 3        26\n",
       "7         Homework 4        30\n",
       "8         Homework 5        43\n",
       "9   Peer Evaluations        40\n",
       "10             Bonus       769\n",
       "11           Quiz 01        17\n",
       "12           Quiz 02        26\n",
       "13           Quiz 03        17\n",
       "14           Quiz 04        32\n",
       "15           Quiz 05        39\n",
       "16           Quiz 06        50\n",
       "17           Quiz 07        51\n",
       "18           Quiz 08        48\n",
       "19           Quiz 09        49\n",
       "20           Quiz 10        53\n",
       "21           Quiz 11        83\n",
       "22           Quiz 12        79\n",
       "23   Quiz Adjustment       774\n",
       "26        Final Exam        41"
      ]
     },
     "execution_count": 80,
     "metadata": {},
     "output_type": "execute_result"
    }
   ],
   "source": [
    "msv = pd.DataFrame(columns = ['Attribute', '# Missing'])\n",
    "for i, column in enumerate(dataset):\n",
    "    number_missing = len(dataset.loc[pd.isna(dataset[column])].index)\n",
    "    msv.loc[i] = [column, number_missing]\n",
    "\n",
    "msv.loc[msv['# Missing'] != 0]"
   ]
  },
  {
   "cell_type": "markdown",
   "metadata": {
    "pycharm": {
     "name": "#%% md\n"
    }
   },
   "source": [
    "NB: The vast majority of the people who have a missing entry for Peer Evaluations failed the course"
   ]
  },
  {
   "cell_type": "code",
   "execution_count": 81,
   "metadata": {
    "pycharm": {
     "is_executing": false
    }
   },
   "outputs": [
    {
     "data": {
      "text/plain": [
       "F     36\n",
       "D+     2\n",
       "C-     2\n",
       "Name: Letter Grade, dtype: int64"
      ]
     },
     "execution_count": 81,
     "metadata": {},
     "output_type": "execute_result"
    }
   ],
   "source": [
    "dataset.loc[dataset[\"Peer Evaluations\"].isna()]['Letter Grade'].value_counts()"
   ]
  },
  {
   "cell_type": "markdown",
   "metadata": {
    "pycharm": {
     "name": "#%% md\n"
    }
   },
   "source": [
    "## Task 3: Re-encoding"
   ]
  },
  {
   "cell_type": "markdown",
   "metadata": {},
   "source": [
    "### Semester"
   ]
  },
  {
   "cell_type": "code",
   "execution_count": 167,
   "metadata": {
    "pycharm": {
     "is_executing": false
    }
   },
   "outputs": [
    {
     "data": {
      "text/html": [
       "<div>\n",
       "<style scoped>\n",
       "    .dataframe tbody tr th:only-of-type {\n",
       "        vertical-align: middle;\n",
       "    }\n",
       "\n",
       "    .dataframe tbody tr th {\n",
       "        vertical-align: top;\n",
       "    }\n",
       "\n",
       "    .dataframe thead th {\n",
       "        text-align: right;\n",
       "    }\n",
       "</style>\n",
       "<table border=\"1\" class=\"dataframe\">\n",
       "  <thead>\n",
       "    <tr style=\"text-align: right;\">\n",
       "      <th></th>\n",
       "      <th>Fall/Spring</th>\n",
       "      <th>Year</th>\n",
       "    </tr>\n",
       "  </thead>\n",
       "  <tbody>\n",
       "    <tr>\n",
       "      <td>0</td>\n",
       "      <td>F</td>\n",
       "      <td>2018</td>\n",
       "    </tr>\n",
       "    <tr>\n",
       "      <td>1</td>\n",
       "      <td>F</td>\n",
       "      <td>2018</td>\n",
       "    </tr>\n",
       "    <tr>\n",
       "      <td>2</td>\n",
       "      <td>F</td>\n",
       "      <td>2018</td>\n",
       "    </tr>\n",
       "    <tr>\n",
       "      <td>3</td>\n",
       "      <td>F</td>\n",
       "      <td>2018</td>\n",
       "    </tr>\n",
       "    <tr>\n",
       "      <td>4</td>\n",
       "      <td>F</td>\n",
       "      <td>2018</td>\n",
       "    </tr>\n",
       "    <tr>\n",
       "      <td>...</td>\n",
       "      <td>...</td>\n",
       "      <td>...</td>\n",
       "    </tr>\n",
       "    <tr>\n",
       "      <td>779</td>\n",
       "      <td>F</td>\n",
       "      <td>2016</td>\n",
       "    </tr>\n",
       "    <tr>\n",
       "      <td>780</td>\n",
       "      <td>F</td>\n",
       "      <td>2016</td>\n",
       "    </tr>\n",
       "    <tr>\n",
       "      <td>781</td>\n",
       "      <td>F</td>\n",
       "      <td>2016</td>\n",
       "    </tr>\n",
       "    <tr>\n",
       "      <td>782</td>\n",
       "      <td>F</td>\n",
       "      <td>2016</td>\n",
       "    </tr>\n",
       "    <tr>\n",
       "      <td>783</td>\n",
       "      <td>F</td>\n",
       "      <td>2016</td>\n",
       "    </tr>\n",
       "  </tbody>\n",
       "</table>\n",
       "<p>784 rows × 2 columns</p>\n",
       "</div>"
      ],
      "text/plain": [
       "    Fall/Spring  Year\n",
       "0             F  2018\n",
       "1             F  2018\n",
       "2             F  2018\n",
       "3             F  2018\n",
       "4             F  2018\n",
       "..          ...   ...\n",
       "779           F  2016\n",
       "780           F  2016\n",
       "781           F  2016\n",
       "782           F  2016\n",
       "783           F  2016\n",
       "\n",
       "[784 rows x 2 columns]"
      ]
     },
     "execution_count": 167,
     "metadata": {},
     "output_type": "execute_result"
    }
   ],
   "source": [
    "dataset['Fall/Spring'], dataset['Year'] = dataset['Semester'].str.slice(stop=1),'20' + dataset['Semester'].str.slice(start=1)\n",
    "#dataset = dataset.drop(columns='Semester')\n",
    "dataset[['Fall/Spring', 'Year']]\n",
    "\n",
    "# TODO: Change F to Fall"
   ]
  },
  {
   "cell_type": "code",
   "execution_count": 168,
   "metadata": {
    "pycharm": {
     "is_executing": false
    }
   },
   "outputs": [
    {
     "data": {
      "text/plain": [
       "F    530\n",
       "S    254\n",
       "Name: Fall/Spring, dtype: int64"
      ]
     },
     "execution_count": 168,
     "metadata": {},
     "output_type": "execute_result"
    }
   ],
   "source": [
    "dataset['Fall/Spring'].value_counts()"
   ]
  },
  {
   "cell_type": "markdown",
   "metadata": {},
   "source": [
    "### Section"
   ]
  },
  {
   "cell_type": "code",
   "execution_count": 169,
   "metadata": {
    "pycharm": {
     "is_executing": false
    }
   },
   "outputs": [
    {
     "data": {
      "text/plain": [
       "0      8\n",
       "1      2\n",
       "2      1\n",
       "3      4\n",
       "4      1\n",
       "      ..\n",
       "779    4\n",
       "780    3\n",
       "781    3\n",
       "782    1\n",
       "783    8\n",
       "Name: Section, Length: 784, dtype: int64"
      ]
     },
     "execution_count": 169,
     "metadata": {},
     "output_type": "execute_result"
    }
   ],
   "source": [
    "dataset['Section']"
   ]
  },
  {
   "cell_type": "code",
   "execution_count": 170,
   "metadata": {
    "pycharm": {
     "is_executing": false
    }
   },
   "outputs": [
    {
     "data": {
      "text/plain": [
       "0      8\n",
       "1      2\n",
       "2      1\n",
       "3      4\n",
       "4      1\n",
       "      ..\n",
       "779    4\n",
       "780    3\n",
       "781    3\n",
       "782    1\n",
       "783    8\n",
       "Name: Section, Length: 784, dtype: object"
      ]
     },
     "execution_count": 170,
     "metadata": {},
     "output_type": "execute_result"
    }
   ],
   "source": [
    "dataset['Section'].apply(str)"
   ]
  },
  {
   "cell_type": "code",
   "execution_count": 171,
   "metadata": {
    "pycharm": {
     "is_executing": false
    }
   },
   "outputs": [],
   "source": [
    "dataset['Lab Section'] = dataset['Year'] + dataset['Fall/Spring'].apply(str) + '-section' + dataset['Section'].apply(str)\n",
    "# Alternative, does not include Year + Semester in Section\n",
    "# dataset['Lab Section'] = 'section' + dataset['Section'].apply(str)\n",
    "dataset = dataset.drop(columns = 'Section')"
   ]
  },
  {
   "cell_type": "code",
   "execution_count": 172,
   "metadata": {
    "pycharm": {
     "is_executing": false,
     "name": "#%%\n"
    }
   },
   "outputs": [],
   "source": [
    "dataset['Fall/Spring'] = pd.Categorical(dataset['Fall/Spring'], [\"S\", \"F\"])"
   ]
  },
  {
   "cell_type": "code",
   "execution_count": 173,
   "metadata": {
    "pycharm": {
     "is_executing": false
    }
   },
   "outputs": [
    {
     "data": {
      "text/plain": [
       "2018S-section5    27\n",
       "2017F-section4    27\n",
       "2016F-section0    27\n",
       "2016F-section1    26\n",
       "2017S-section0    26\n",
       "2018S-section4    26\n",
       "2018S-section1    26\n",
       "2016F-section2    26\n",
       "2018F-section4    25\n",
       "2018S-section2    24\n",
       "2017F-section9    24\n",
       "2018F-section7    23\n",
       "2017S-section2    23\n",
       "2016F-section9    23\n",
       "2018F-section6    23\n",
       "2018S-section3    22\n",
       "2017F-section7    22\n",
       "2016F-section4    22\n",
       "2017S-section1    22\n",
       "2016F-section3    22\n",
       "2017F-section5    22\n",
       "2017F-section2    22\n",
       "2018S-section6    21\n",
       "2017F-section3    21\n",
       "2018F-section3    21\n",
       "2016F-section7    21\n",
       "2017F-section8    18\n",
       "2018F-section5    18\n",
       "2017S-section3    17\n",
       "2016F-section6    16\n",
       "2017F-section6    14\n",
       "2016F-section8    13\n",
       "2018F-section2    13\n",
       "2018F-section8    12\n",
       "2017F-section1    12\n",
       "2017S-section4    11\n",
       "2018F-section1     9\n",
       "2017S-section5     9\n",
       "2018F-section9     8\n",
       "Name: Lab Section, dtype: int64"
      ]
     },
     "execution_count": 173,
     "metadata": {},
     "output_type": "execute_result"
    }
   ],
   "source": [
    "dataset['Lab Section'].value_counts()"
   ]
  },
  {
   "cell_type": "markdown",
   "metadata": {
    "pycharm": {
     "name": "#%% md\n"
    }
   },
   "source": [
    "## Task 4: Scaling and z-scoring"
   ]
  },
  {
   "cell_type": "code",
   "execution_count": 89,
   "metadata": {
    "pycharm": {
     "is_executing": false,
     "name": "#%%\n"
    }
   },
   "outputs": [],
   "source": [
    "# score_columns = []\n",
    "# \n",
    "# for i in range(1,6):\n",
    "#     score_columns.append(f'Homework {i}')\n",
    "# score_columns.append('Peer Evaluations')\n",
    "# for i in range(1,13):\n",
    "#     score_columns.append(f'Quiz {i:02}')\n",
    "# score_columns.append('Final Exam')\n",
    "# \n",
    "# dataset[score_columns]"
   ]
  },
  {
   "cell_type": "code",
   "execution_count": 174,
   "metadata": {
    "pycharm": {
     "is_executing": false,
     "name": "#%%\n"
    }
   },
   "outputs": [
    {
     "data": {
      "text/plain": [
       "count    766.000000\n",
       "mean      37.784595\n",
       "std        7.251365\n",
       "min        0.000000\n",
       "25%       37.000000\n",
       "50%       40.000000\n",
       "75%       42.000000\n",
       "max       44.000000\n",
       "Name: Homework 1, dtype: float64"
      ]
     },
     "execution_count": 174,
     "metadata": {},
     "output_type": "execute_result"
    }
   ],
   "source": [
    "dataset['Homework 1'].describe()"
   ]
  },
  {
   "cell_type": "code",
   "execution_count": 175,
   "metadata": {
    "pycharm": {
     "is_executing": false,
     "name": "#%%\n"
    }
   },
   "outputs": [],
   "source": [
    "# Change 44s to 42 for homework assignments\n",
    "for i in range(1, 6):\n",
    "    dataset.loc[dataset[f'Homework {i}'] > 42, f'Homework {i}'] = 42"
   ]
  },
  {
   "cell_type": "code",
   "execution_count": 176,
   "metadata": {
    "pycharm": {
     "is_executing": false,
     "name": "#%%\n"
    }
   },
   "outputs": [],
   "source": [
    "for i in range(1, 6):\n",
    "    dataset[f'Homework {i} Scaled'] = dataset[f'Homework {i}'].apply(lambda x: x*100./40.)\n",
    "dataset['Peer Evaluations Scaled'] = dataset['Peer Evaluations'].apply(lambda x: x*100./150.)\n",
    "for j in range(1, 13):\n",
    "    quiz = f'Quiz {i:02}'\n",
    "    dataset[f'{quiz} Scaled'] = dataset[quiz].apply(lambda x: x*100./50.)\n",
    "dataset['Final Exam Scaled'] = dataset['Final Exam'].apply(lambda x: x*100./150.)\n",
    "dataset['Total Score Scaled'] = dataset['Total Score'].apply(lambda x: x*100./1000.)"
   ]
  },
  {
   "cell_type": "code",
   "execution_count": 177,
   "metadata": {
    "pycharm": {
     "is_executing": false,
     "name": "#%%\n"
    }
   },
   "outputs": [
    {
     "data": {
      "text/plain": [
       "count    743.000000\n",
       "mean      73.033647\n",
       "std       14.047578\n",
       "min       16.000000\n",
       "25%       66.000000\n",
       "50%       76.000000\n",
       "75%       84.000000\n",
       "max       98.000000\n",
       "Name: Final Exam Scaled, dtype: float64"
      ]
     },
     "execution_count": 177,
     "metadata": {},
     "output_type": "execute_result"
    }
   ],
   "source": [
    "dataset['Final Exam Scaled'].describe()"
   ]
  },
  {
   "cell_type": "code",
   "execution_count": 178,
   "metadata": {
    "pycharm": {
     "is_executing": false,
     "name": "#%%\n"
    }
   },
   "outputs": [],
   "source": [
    "for i in range(1, 6):\n",
    "    hw = f'Homework {i}'\n",
    "    dataset[f'{hw} Z-Score All Semesters'] = (dataset[hw] - dataset[hw].mean())/dataset[hw].std(ddof=0)\n",
    "\n",
    "dataset['Peer Evaluations Z-Score All Semesters'] = (dataset['Peer Evaluations'] - dataset['Peer Evaluations'].mean())/dataset['Peer Evaluations'].std(ddof=0)\n",
    "\n",
    "for j in range(1, 13):\n",
    "    quiz = f'Quiz {i:02}'\n",
    "    dataset[f'{quiz} Z-Score All Semesters'] = (dataset[quiz] - dataset[quiz].mean())/dataset[quiz].std(ddof=0)\n",
    "\n",
    "dataset['Final Exam Z-Score All Semesters'] = (dataset['Final Exam'] - dataset['Final Exam'].mean())/dataset['Final Exam'].std(ddof=0)\n",
    "dataset['Total Score Z-Score All Semesters'] = (dataset['Total Score'] - dataset['Total Score'].mean())/dataset['Total Score'].std(ddof=0)"
   ]
  },
  {
   "cell_type": "code",
   "execution_count": 179,
   "metadata": {
    "pycharm": {
     "is_executing": false,
     "name": "#%%\n"
    },
    "scrolled": false
   },
   "outputs": [
    {
     "data": {
      "text/plain": [
       "count    7.430000e+02\n",
       "mean    -6.328122e-17\n",
       "std      1.000674e+00\n",
       "min     -4.062769e+00\n",
       "25%     -5.010391e-01\n",
       "50%      2.113069e-01\n",
       "75%      7.811838e-01\n",
       "max      1.778468e+00\n",
       "Name: Final Exam Z-Score All Semesters, dtype: float64"
      ]
     },
     "execution_count": 179,
     "metadata": {},
     "output_type": "execute_result"
    }
   ],
   "source": [
    "dataset['Final Exam Z-Score All Semesters'].describe()"
   ]
  },
  {
   "cell_type": "code",
   "execution_count": 182,
   "metadata": {
    "pycharm": {
     "is_executing": false,
     "name": "#%%\n"
    }
   },
   "outputs": [
    {
     "name": "stderr",
     "output_type": "stream",
     "text": [
      "C:\\ProgramData\\Anaconda3\\lib\\site-packages\\pandas\\core\\indexing.py:205: SettingWithCopyWarning: \n",
      "A value is trying to be set on a copy of a slice from a DataFrame\n",
      "\n",
      "See the caveats in the documentation: http://pandas.pydata.org/pandas-docs/stable/user_guide/indexing.html#returning-a-view-versus-a-copy\n",
      "  self._setitem_with_indexer(indexer, value)\n"
     ]
    }
   ],
   "source": [
    "for semester in dataset['Semester'].unique():\n",
    "    for i in range(1,6):\n",
    "        hw = f'Homework {i}'\n",
    "        mean = dataset.groupby('Semester').mean()[hw][semester]\n",
    "        std = dataset.groupby('Semester').std(ddof=0)[hw][semester]\n",
    "        dataset[f'{hw} Z-Score Same Semesters'].loc[dataset['Semester'] == semester] = (dataset[hw].loc[dataset['Semester'] == semester] - mean)/std\n",
    "    \n",
    "    mean = dataset.groupby('Semester').mean()['Peer Evaluations'][semester]\n",
    "    std = dataset.groupby('Semester').std(ddof=0)['Peer Evaluations'][semester]\n",
    "    dataset['Peer Evaluations Z-Score Same Semesters'].loc[dataset['Semester'] == semester] = (dataset['Peer Evaluations'].loc[dataset['Semester'] == semester] - mean)/std\n",
    "\n",
    "    for j in range(1, 13):\n",
    "        quiz = f'Quiz {j:02}'\n",
    "        mean = dataset.groupby('Semester').mean()[quiz][semester]\n",
    "        std = dataset.groupby('Semester').std(ddof=0)[quiz][semester]\n",
    "        dataset[f'{quiz} Z-Score Same Semesters'].loc[dataset['Semester'] == semester] = (dataset[quiz].loc[dataset['Semester'] == semester] - mean)/std\n",
    "    \n",
    "    mean = dataset.groupby('Semester').mean()['Final Exam'][semester]\n",
    "    std = dataset.groupby('Semester').std(ddof=0)['Final Exam'][semester]\n",
    "    dataset['Final Exam Z-Score Same Semesters'].loc[dataset['Semester'] == semester] = (dataset['Final Exam'].loc[dataset['Semester'] == semester] - mean)/std\n",
    "    \n",
    "    mean = dataset.groupby('Semester').mean()['Total Score'][semester]\n",
    "    std = dataset.groupby('Semester').std(ddof=0)['Total Score'][semester]\n",
    "    dataset['Total Score Z-Score Same Semesters'].loc[dataset['Semester'] == semester] = (dataset['Total Score'].loc[dataset['Semester'] == semester] - mean)/std"
   ]
  },
  {
   "cell_type": "code",
   "execution_count": 183,
   "metadata": {
    "pycharm": {
     "name": "#%%\n"
    }
   },
   "outputs": [
    {
     "data": {
      "text/plain": [
       "0     -0.869845\n",
       "1     -0.421804\n",
       "2      0.175584\n",
       "3      0.026237\n",
       "4      0.026237\n",
       "         ...   \n",
       "779    0.715799\n",
       "780   -0.143160\n",
       "781    0.501060\n",
       "782   -0.143160\n",
       "783    0.393690\n",
       "Name: Homework 1 Z-Score Same Semesters, Length: 784, dtype: float64"
      ]
     },
     "execution_count": 183,
     "metadata": {},
     "output_type": "execute_result"
    }
   ],
   "source": [
    "dataset['Homework 1 Z-Score Same Semesters']"
   ]
  },
  {
   "cell_type": "markdown",
   "metadata": {
    "pycharm": {
     "name": "#%% md\n"
    }
   },
   "source": [
    "## Task 5: Summary Statistics"
   ]
  },
  {
   "cell_type": "code",
   "execution_count": 97,
   "metadata": {
    "pycharm": {
     "is_executing": false,
     "name": "#%%\n"
    }
   },
   "outputs": [
    {
     "data": {
      "text/html": [
       "<div>\n",
       "<style scoped>\n",
       "    .dataframe tbody tr th:only-of-type {\n",
       "        vertical-align: middle;\n",
       "    }\n",
       "\n",
       "    .dataframe tbody tr th {\n",
       "        vertical-align: top;\n",
       "    }\n",
       "\n",
       "    .dataframe thead th {\n",
       "        text-align: right;\n",
       "    }\n",
       "</style>\n",
       "<table border=\"1\" class=\"dataframe\">\n",
       "  <thead>\n",
       "    <tr style=\"text-align: right;\">\n",
       "      <th></th>\n",
       "      <th>Attribute</th>\n",
       "      <th>Mean</th>\n",
       "      <th>Std Dev</th>\n",
       "      <th>Min</th>\n",
       "      <th>Q1</th>\n",
       "      <th>Median</th>\n",
       "      <th>Q3</th>\n",
       "      <th>Max</th>\n",
       "    </tr>\n",
       "  </thead>\n",
       "  <tbody>\n",
       "    <tr>\n",
       "      <td>0</td>\n",
       "      <td>Homework 1</td>\n",
       "      <td>37.646214</td>\n",
       "      <td>7.146465</td>\n",
       "      <td>0.0</td>\n",
       "      <td>37.0</td>\n",
       "      <td>40.0</td>\n",
       "      <td>42.0</td>\n",
       "      <td>42.0</td>\n",
       "    </tr>\n",
       "    <tr>\n",
       "      <td>1</td>\n",
       "      <td>Homework 2</td>\n",
       "      <td>37.859192</td>\n",
       "      <td>6.228671</td>\n",
       "      <td>0.0</td>\n",
       "      <td>37.0</td>\n",
       "      <td>40.0</td>\n",
       "      <td>41.0</td>\n",
       "      <td>42.0</td>\n",
       "    </tr>\n",
       "    <tr>\n",
       "      <td>2</td>\n",
       "      <td>Homework 3</td>\n",
       "      <td>37.339050</td>\n",
       "      <td>6.788733</td>\n",
       "      <td>-7.0</td>\n",
       "      <td>36.0</td>\n",
       "      <td>40.0</td>\n",
       "      <td>42.0</td>\n",
       "      <td>42.0</td>\n",
       "    </tr>\n",
       "    <tr>\n",
       "      <td>3</td>\n",
       "      <td>Homework 4</td>\n",
       "      <td>37.828912</td>\n",
       "      <td>6.618731</td>\n",
       "      <td>-3.0</td>\n",
       "      <td>37.0</td>\n",
       "      <td>40.0</td>\n",
       "      <td>42.0</td>\n",
       "      <td>42.0</td>\n",
       "    </tr>\n",
       "    <tr>\n",
       "      <td>4</td>\n",
       "      <td>Homework 5</td>\n",
       "      <td>39.784076</td>\n",
       "      <td>6.208202</td>\n",
       "      <td>0.0</td>\n",
       "      <td>40.0</td>\n",
       "      <td>42.0</td>\n",
       "      <td>42.0</td>\n",
       "      <td>42.0</td>\n",
       "    </tr>\n",
       "    <tr>\n",
       "      <td>5</td>\n",
       "      <td>Peer Evaluations</td>\n",
       "      <td>146.591263</td>\n",
       "      <td>16.174448</td>\n",
       "      <td>1.0</td>\n",
       "      <td>150.0</td>\n",
       "      <td>150.0</td>\n",
       "      <td>150.0</td>\n",
       "      <td>150.0</td>\n",
       "    </tr>\n",
       "    <tr>\n",
       "      <td>6</td>\n",
       "      <td>Quiz 01</td>\n",
       "      <td>38.649283</td>\n",
       "      <td>11.306772</td>\n",
       "      <td>5.0</td>\n",
       "      <td>30.0</td>\n",
       "      <td>43.0</td>\n",
       "      <td>49.0</td>\n",
       "      <td>50.0</td>\n",
       "    </tr>\n",
       "    <tr>\n",
       "      <td>7</td>\n",
       "      <td>Quiz 02</td>\n",
       "      <td>42.769129</td>\n",
       "      <td>9.904997</td>\n",
       "      <td>0.0</td>\n",
       "      <td>39.0</td>\n",
       "      <td>46.0</td>\n",
       "      <td>50.0</td>\n",
       "      <td>50.0</td>\n",
       "    </tr>\n",
       "    <tr>\n",
       "      <td>8</td>\n",
       "      <td>Quiz 03</td>\n",
       "      <td>34.319426</td>\n",
       "      <td>10.792142</td>\n",
       "      <td>1.0</td>\n",
       "      <td>28.0</td>\n",
       "      <td>37.0</td>\n",
       "      <td>42.0</td>\n",
       "      <td>50.0</td>\n",
       "    </tr>\n",
       "    <tr>\n",
       "      <td>9</td>\n",
       "      <td>Quiz 04</td>\n",
       "      <td>41.817819</td>\n",
       "      <td>8.487322</td>\n",
       "      <td>0.0</td>\n",
       "      <td>39.0</td>\n",
       "      <td>45.0</td>\n",
       "      <td>48.0</td>\n",
       "      <td>50.0</td>\n",
       "    </tr>\n",
       "    <tr>\n",
       "      <td>10</td>\n",
       "      <td>Quiz 05</td>\n",
       "      <td>36.634899</td>\n",
       "      <td>11.710529</td>\n",
       "      <td>0.0</td>\n",
       "      <td>30.0</td>\n",
       "      <td>40.0</td>\n",
       "      <td>46.0</td>\n",
       "      <td>50.0</td>\n",
       "    </tr>\n",
       "    <tr>\n",
       "      <td>11</td>\n",
       "      <td>Quiz 06</td>\n",
       "      <td>34.118529</td>\n",
       "      <td>11.671053</td>\n",
       "      <td>2.0</td>\n",
       "      <td>26.0</td>\n",
       "      <td>37.0</td>\n",
       "      <td>43.0</td>\n",
       "      <td>50.0</td>\n",
       "    </tr>\n",
       "    <tr>\n",
       "      <td>12</td>\n",
       "      <td>Quiz 07</td>\n",
       "      <td>34.383356</td>\n",
       "      <td>13.016375</td>\n",
       "      <td>0.0</td>\n",
       "      <td>25.0</td>\n",
       "      <td>37.0</td>\n",
       "      <td>46.0</td>\n",
       "      <td>50.0</td>\n",
       "    </tr>\n",
       "    <tr>\n",
       "      <td>13</td>\n",
       "      <td>Quiz 08</td>\n",
       "      <td>32.702446</td>\n",
       "      <td>14.180505</td>\n",
       "      <td>0.0</td>\n",
       "      <td>23.0</td>\n",
       "      <td>36.0</td>\n",
       "      <td>44.0</td>\n",
       "      <td>50.0</td>\n",
       "    </tr>\n",
       "    <tr>\n",
       "      <td>14</td>\n",
       "      <td>Quiz 09</td>\n",
       "      <td>30.291156</td>\n",
       "      <td>12.326493</td>\n",
       "      <td>0.0</td>\n",
       "      <td>21.0</td>\n",
       "      <td>30.0</td>\n",
       "      <td>40.0</td>\n",
       "      <td>50.0</td>\n",
       "    </tr>\n",
       "    <tr>\n",
       "      <td>15</td>\n",
       "      <td>Quiz 10</td>\n",
       "      <td>31.056088</td>\n",
       "      <td>11.487262</td>\n",
       "      <td>0.0</td>\n",
       "      <td>23.0</td>\n",
       "      <td>32.0</td>\n",
       "      <td>41.0</td>\n",
       "      <td>50.0</td>\n",
       "    </tr>\n",
       "    <tr>\n",
       "      <td>16</td>\n",
       "      <td>Quiz 11</td>\n",
       "      <td>37.781740</td>\n",
       "      <td>14.839397</td>\n",
       "      <td>0.0</td>\n",
       "      <td>31.0</td>\n",
       "      <td>44.0</td>\n",
       "      <td>50.0</td>\n",
       "      <td>50.0</td>\n",
       "    </tr>\n",
       "    <tr>\n",
       "      <td>17</td>\n",
       "      <td>Quiz 12</td>\n",
       "      <td>36.822695</td>\n",
       "      <td>15.329147</td>\n",
       "      <td>0.0</td>\n",
       "      <td>28.0</td>\n",
       "      <td>43.0</td>\n",
       "      <td>50.0</td>\n",
       "      <td>50.0</td>\n",
       "    </tr>\n",
       "    <tr>\n",
       "      <td>18</td>\n",
       "      <td>Final Exam</td>\n",
       "      <td>109.550471</td>\n",
       "      <td>21.057182</td>\n",
       "      <td>24.0</td>\n",
       "      <td>99.0</td>\n",
       "      <td>114.0</td>\n",
       "      <td>126.0</td>\n",
       "      <td>147.0</td>\n",
       "    </tr>\n",
       "  </tbody>\n",
       "</table>\n",
       "</div>"
      ],
      "text/plain": [
       "           Attribute        Mean    Std Dev   Min     Q1  Median     Q3    Max\n",
       "0         Homework 1   37.646214   7.146465   0.0   37.0    40.0   42.0   42.0\n",
       "1         Homework 2   37.859192   6.228671   0.0   37.0    40.0   41.0   42.0\n",
       "2         Homework 3   37.339050   6.788733  -7.0   36.0    40.0   42.0   42.0\n",
       "3         Homework 4   37.828912   6.618731  -3.0   37.0    40.0   42.0   42.0\n",
       "4         Homework 5   39.784076   6.208202   0.0   40.0    42.0   42.0   42.0\n",
       "5   Peer Evaluations  146.591263  16.174448   1.0  150.0   150.0  150.0  150.0\n",
       "6            Quiz 01   38.649283  11.306772   5.0   30.0    43.0   49.0   50.0\n",
       "7            Quiz 02   42.769129   9.904997   0.0   39.0    46.0   50.0   50.0\n",
       "8            Quiz 03   34.319426  10.792142   1.0   28.0    37.0   42.0   50.0\n",
       "9            Quiz 04   41.817819   8.487322   0.0   39.0    45.0   48.0   50.0\n",
       "10           Quiz 05   36.634899  11.710529   0.0   30.0    40.0   46.0   50.0\n",
       "11           Quiz 06   34.118529  11.671053   2.0   26.0    37.0   43.0   50.0\n",
       "12           Quiz 07   34.383356  13.016375   0.0   25.0    37.0   46.0   50.0\n",
       "13           Quiz 08   32.702446  14.180505   0.0   23.0    36.0   44.0   50.0\n",
       "14           Quiz 09   30.291156  12.326493   0.0   21.0    30.0   40.0   50.0\n",
       "15           Quiz 10   31.056088  11.487262   0.0   23.0    32.0   41.0   50.0\n",
       "16           Quiz 11   37.781740  14.839397   0.0   31.0    44.0   50.0   50.0\n",
       "17           Quiz 12   36.822695  15.329147   0.0   28.0    43.0   50.0   50.0\n",
       "18        Final Exam  109.550471  21.057182  24.0   99.0   114.0  126.0  147.0"
      ]
     },
     "execution_count": 97,
     "metadata": {},
     "output_type": "execute_result"
    }
   ],
   "source": [
    "def seven_stats(attribute):\n",
    "    entry = dataset[attribute]\n",
    "    return [attribute, entry.mean(), \n",
    "            entry.std(ddof=0),entry.min(), \n",
    "            entry.quantile(0.25), entry.median(), \n",
    "            entry.quantile(0.75), entry.max()]\n",
    "\n",
    "summ_stat_list = []\n",
    "\n",
    "for i in range(1,6):\n",
    "    summ_stat_list.append(seven_stats(f'Homework {i}'))\n",
    "summ_stat_list.append(seven_stats('Peer Evaluations'))\n",
    "for i in range(1,13):\n",
    "    summ_stat_list.append(seven_stats(f'Quiz {i:02}'))\n",
    "summ_stat_list.append(seven_stats('Final Exam'))\n",
    "\n",
    "summary_statistics = pd.DataFrame(summ_stat_list, columns=['Attribute', 'Mean', 'Std Dev', 'Min', 'Q1', 'Median', 'Q3', 'Max'])\n",
    "summary_statistics"
   ]
  },
  {
   "cell_type": "code",
   "execution_count": 98,
   "metadata": {
    "pycharm": {
     "is_executing": false,
     "name": "#%%\n"
    }
   },
   "outputs": [],
   "source": [
    "summary_statistics.to_csv('summary_statistics.csv')"
   ]
  },
  {
   "cell_type": "markdown",
   "metadata": {
    "pycharm": {
     "name": "#%% md\n"
    }
   },
   "source": [
    "## Task 6: Charts"
   ]
  },
  {
   "cell_type": "markdown",
   "metadata": {
    "pycharm": {
     "name": "#%% md\n"
    }
   },
   "source": [
    " % of people that passed  \n",
    " Among those that passed ---"
   ]
  },
  {
   "cell_type": "code",
   "execution_count": 99,
   "metadata": {
    "pycharm": {
     "is_executing": false,
     "name": "#%% \n"
    }
   },
   "outputs": [],
   "source": [
    "import matplotlib.pyplot as plt\n",
    "plt.rcdefaults()"
   ]
  },
  {
   "cell_type": "code",
   "execution_count": 100,
   "metadata": {
    "pycharm": {
     "is_executing": false,
     "name": "#%%\n"
    }
   },
   "outputs": [
    {
     "data": {
      "image/png": "[encoded data removed]",
      "text/plain": [
       "<Figure size 640x480 with 1 Axes>"
      ]
     },
     "metadata": {},
     "output_type": "display_data"
    }
   ],
   "source": [
    "dataset.boxplot(column = 'Total Score', by=['Year', 'Fall/Spring'])\n",
    "plt.ylabel('Total Score')\n",
    "plt.xlabel('Semester')\n",
    "plt.title('Total Score per Semester')\n",
    "plt.suptitle('')\n",
    "plt.savefig('graph0.png')\n",
    "plt.show()"
   ]
  },
  {
   "cell_type": "code",
   "execution_count": 101,
   "metadata": {
    "pycharm": {
     "is_executing": false,
     "name": "#%%\n"
    }
   },
   "outputs": [
    {
     "data": {
      "image/png": "[encoded data removed]",
      "text/plain": [
       "<Figure size 640x480 with 1 Axes>"
      ]
     },
     "metadata": {},
     "output_type": "display_data"
    }
   ],
   "source": [
    "# .sum().sum(axis=1)\n",
    "# Variation of Homework grades for all years\n",
    "all_homeworks = [f'Homework {i}' for i in range(1, 6)]\n",
    "dataset.groupby('Year')[all_homeworks].sum(axis = 1).plot(kind = 'box')\n",
    "plt.ylabel('Total Score')\n",
    "plt.xlabel('Homework Assignment')\n",
    "plt.title('Cumulative Score Per Homework for All Years')\n",
    "plt.suptitle('')\n",
    "plt.savefig('graph1.png')\n",
    "plt.show()"
   ]
  },
  {
   "cell_type": "code",
   "execution_count": 102,
   "metadata": {
    "pycharm": {
     "is_executing": false,
     "name": "#%%\n"
    }
   },
   "outputs": [],
   "source": [
    "dataset['All Homeworks'] =  dataset[all_homeworks].sum(axis=1)"
   ]
  },
  {
   "cell_type": "code",
   "execution_count": 103,
   "metadata": {
    "pycharm": {
     "is_executing": false,
     "name": "#%%\n"
    }
   },
   "outputs": [
    {
     "data": {
      "image/png": "[encoded data removed]",
      "text/plain": [
       "<Figure size 640x480 with 1 Axes>"
      ]
     },
     "metadata": {},
     "output_type": "display_data"
    }
   ],
   "source": [
    "dataset.plot(x = 'All Homeworks', y = 'Final Exam', kind = 'scatter')\n",
    "plt.ylabel('Final Exam Score')\n",
    "plt.xlabel('Total Homework Score')\n",
    "plt.title('Final Exam Score vs Homework Score')\n",
    "plt.suptitle('')\n",
    "plt.savefig('graph2.png')\n",
    "plt.show()"
   ]
  },
  {
   "cell_type": "code",
   "execution_count": 104,
   "metadata": {
    "pycharm": {
     "is_executing": false,
     "name": "#%%\n"
    }
   },
   "outputs": [
    {
     "data": {
      "image/png": "[encoded data removed]",
      "text/plain": [
       "<Figure size 640x480 with 1 Axes>"
      ]
     },
     "metadata": {},
     "output_type": "display_data"
    }
   ],
   "source": [
    "dataset.plot(x = 'Homework 1', y = 'Homework 5', kind = 'scatter')\n",
    "plt.ylabel('Homework 5 Score')\n",
    "plt.xlabel('Homework 1 Score')\n",
    "plt.title('Homework 5 vs Homework 1 Scores')\n",
    "plt.suptitle('')\n",
    "plt.savefig('graph3.png')\n",
    "plt.show()"
   ]
  },
  {
   "cell_type": "code",
   "execution_count": 112,
   "metadata": {
    "pycharm": {
     "is_executing": false,
     "name": "#%%\n"
    }
   },
   "outputs": [
    {
     "data": {
      "image/png": "[encoded data removed]",
      "text/plain": [
       "<Figure size 640x480 with 1 Axes>"
      ]
     },
     "metadata": {},
     "output_type": "display_data"
    }
   ],
   "source": [
    "dataset['Total Score'].plot(kind='hist')\n",
    "plt.xlabel('Total Score')\n",
    "plt.title('Total Score Frequencies')\n",
    "plt.suptitle('')\n",
    "plt.savefig('graph4.png')\n",
    "plt.show()"
   ]
  },
  {
   "cell_type": "code",
   "execution_count": 106,
   "metadata": {
    "pycharm": {
     "is_executing": false,
     "name": "#%%\n"
    }
   },
   "outputs": [
    {
     "data": {
      "image/png": "[encoded data removed]",
      "text/plain": [
       "<Figure size 640x480 with 1 Axes>"
      ]
     },
     "metadata": {},
     "output_type": "display_data"
    }
   ],
   "source": [
    "dataset.boxplot(by = 'Fall/Spring', column= 'Total Score')\n",
    "plt.ylabel('Total Score')\n",
    "plt.xlabel('Semester')\n",
    "plt.title('Total Score Distributions Per Semester')\n",
    "plt.suptitle('')\n",
    "plt.savefig('graph5.png')\n",
    "plt.show()"
   ]
  },
  {
   "cell_type": "code",
   "execution_count": 107,
   "metadata": {
    "pycharm": {
     "is_executing": false,
     "name": "#%%\n"
    }
   },
   "outputs": [
    {
     "data": {
      "image/png": "[encoded data removed]",
      "text/plain": [
       "<Figure size 640x480 with 1 Axes>"
      ]
     },
     "metadata": {},
     "output_type": "display_data"
    }
   ],
   "source": [
    "dataset.plot(x='Final Exam', y='Total Score', kind='scatter')\n",
    "plt.xlabel('Final Exam Score')\n",
    "plt.ylabel('Total Score')\n",
    "plt.title('Total Score vs Final Exam Score')\n",
    "plt.suptitle('')\n",
    "plt.savefig('graph6.png')\n",
    "plt.show()"
   ]
  },
  {
   "cell_type": "code",
   "execution_count": 108,
   "metadata": {
    "pycharm": {
     "is_executing": false,
     "name": "#%%\n"
    }
   },
   "outputs": [
    {
     "data": {
      "text/plain": [
       "0.8132413472122629"
      ]
     },
     "execution_count": 108,
     "metadata": {},
     "output_type": "execute_result"
    }
   ],
   "source": [
    "dataset['Final Exam'].corr(dataset['Total Score'])"
   ]
  },
  {
   "cell_type": "code",
   "execution_count": 109,
   "metadata": {
    "pycharm": {
     "is_executing": false,
     "name": "#%%\n"
    }
   },
   "outputs": [
    {
     "data": {
      "image/png": "[encoded data removed]",
      "text/plain": [
       "<Figure size 640x480 with 1 Axes>"
      ]
     },
     "metadata": {},
     "output_type": "display_data"
    }
   ],
   "source": [
    "dataset['Year'].value_counts().plot(kind = 'bar')\n",
    "plt.ylabel('Student Count')\n",
    "plt.xlabel('Year')\n",
    "plt.title('Number of Students Taking CS170 Per Year')\n",
    "plt.suptitle('')\n",
    "plt.savefig('graph7.png')\n",
    "plt.show()"
   ]
  },
  {
   "cell_type": "code",
   "execution_count": 110,
   "metadata": {},
   "outputs": [
    {
     "data": {
      "image/png": "[encoded data removed]",
      "text/plain": [
       "<Figure size 640x480 with 1 Axes>"
      ]
     },
     "metadata": {},
     "output_type": "display_data"
    }
   ],
   "source": [
    "dataset['Peer Evaluations'].plot(kind = 'hist')\n",
    "plt.xlabel('Peer Evaluation Scores')\n",
    "plt.title('Distribution of Peer Evaluation Scores')\n",
    "plt.savefig('graph8.png')\n",
    "plt.show()"
   ]
  },
  {
   "cell_type": "code",
   "execution_count": 121,
   "metadata": {
    "pycharm": {
     "is_executing": false,
     "name": "#%%\n"
    },
    "scrolled": true
   },
   "outputs": [
    {
     "data": {
      "image/png": "[encoded data removed]",
      "text/plain": [
       "<Figure size 640x480 with 1 Axes>"
      ]
     },
     "metadata": {},
     "output_type": "display_data"
    }
   ],
   "source": [
    "dataset[['Quiz 10', 'Quiz 12']].plot(kind = 'hist')\n",
    "plt.xlabel('Quiz Score')\n",
    "plt.title('Quiz Score Distribution')\n",
    "plt.savefig('graph9.png')\n",
    "plt.show()"
   ]
  },
  {
   "cell_type": "code",
   "execution_count": null,
   "metadata": {
    "pycharm": {
     "name": "#%%\n"
    }
   },
   "outputs": [],
   "source": [
    "dataset\n",
    "\n"
   ]
  },
  {
   "cell_type": "markdown",
   "metadata": {
    "pycharm": {
     "name": "#%% md\n"
    }
   },
   "source": [
    "## Cleanup"
   ]
  },
  {
   "cell_type": "code",
   "execution_count": 185,
   "metadata": {
    "pycharm": {
     "name": "#%%\n"
    }
   },
   "outputs": [],
   "source": [
    "#del dataset['All Homeworks']\n",
    "del dataset['Semester']\n",
    "\n",
    "dataset.to_csv('grades_modified.csv')\n",
    "\n",
    "# Maybe use a Seaborn heatmap"
   ]
  }
 ],
 "metadata": {
  "kernelspec": {
   "display_name": "Python 3",
   "language": "python",
   "name": "python3"
  },
  "language_info": {
   "codemirror_mode": {
    "name": "ipython",
    "version": 3
   },
   "file_extension": ".py",
   "mimetype": "text/x-python",
   "name": "python",
   "nbconvert_exporter": "python",
   "pygments_lexer": "ipython3",
   "version": "3.7.4"
  },
  "pycharm": {
   "stem_cell": {
    "cell_type": "raw",
    "metadata": {
     "collapsed": false
    },
    "source": []
   }
  }
 },
 "nbformat": 4,
 "nbformat_minor": 1
}
