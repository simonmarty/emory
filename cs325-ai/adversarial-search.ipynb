{
 "cells": [
  {
   "cell_type": "markdown",
   "metadata": {
    "collapsed": true,
    "pycharm": {
     "name": "#%% md\n"
    }
   },
   "source": [
    "# Adversarial Search"
   ]
  },
  {
   "cell_type": "markdown",
   "metadata": {
    "collapsed": false,
    "pycharm": {
     "name": "#%% md\n"
    }
   },
   "source": [
    "* Games mimic the natural world\n",
    "* For centuries humans have used them for fun, education and measuring their intelligence\n",
    "* Making rules explicit makes real-world problems possible to analyze"
   ]
  },
  {
   "cell_type": "markdown",
   "metadata": {
    "collapsed": false,
    "pycharm": {
     "name": "#%% md\n"
    }
   },
   "source": [
    "## Deterministic Games\n",
    "\n",
    "* States: S (start at s<sub>0</sub>)\n",
    "* Players: P\n",
    "* Actions: A\n",
    "* Transition Function SxA &rarr; S\n",
    "* Terminal Test: S &rarr; {t, f}\n",
    "* Terminal Utilities: SxP &rarr; R\n",
    "\n",
    "Solution for a  player is a policy: S &rarr; A"
   ]
  },
  {
   "cell_type": "markdown",
   "metadata": {
    "collapsed": false,
    "pycharm": {
     "name": "#%% md\n"
    }
   },
   "source": [
    "## Zero-Sum Games\n",
    "* Agents have opposite utilities\n",
    "* Lets us think of a single value that one maximizes and the other minimizes\n",
    "* Adversarial, pure competition"
   ]
  },
  {
   "cell_type": "markdown",
   "metadata": {
    "collapsed": false,
    "pycharm": {
     "name": "#%% md\n"
    }
   },
   "source": [
    "## General Games\n",
    "* Agents have independent utilities (values on outcomes)\n",
    "* Cooperation, indifference, competition, and more are all possible"
   ]
  },
  {
   "cell_type": "markdown",
   "metadata": {
    "collapsed": false,
    "pycharm": {
     "name": "#%% md\n"
    }
   },
   "source": [
    "### Value of a State\n",
    "The best achievable outcome (utility) from that state"
   ]
  },
  {
   "cell_type": "markdown",
   "metadata": {
    "collapsed": false,
    "pycharm": {
     "name": "#%% md\n"
    }
   },
   "source": [
    "* State space\n",
    "* Initial state\n",
    "* Successor function\n",
    "* Terminal test\n",
    "* All states are fully observable"
   ]
  },
  {
   "cell_type": "markdown",
   "metadata": {
    "collapsed": false,
    "pycharm": {
     "name": "#%% md\n"
    }
   },
   "source": [
    "```{python}\n",
    "def max-value(state):\n",
    "    initialize v = min int\n",
    "    for each successor of state:\n",
    "        v = max(v, min-value(successor))\n",
    "    return v\n",
    "\n",
    "def min-value(state):\n",
    "    initialize v = max int\n",
    "    for each successor of state:\n",
    "        v = min(v, max-value(successor))\n",
    "    return v\n",
    "\n",
    "def value(state):\n",
    "    if the state is a terminal state: return the state's utility\n",
    "    if the next agent is max\n",
    "    if the next agent is min\n",
    "```"
   ]
  },
  {
   "cell_type": "markdown",
   "metadata": {
    "collapsed": false,
    "pycharm": {
     "name": "#%% md\n"
    }
   },
   "source": [
    "### Depth Limited Search\n",
    "* Search only to a limited depth in the tree\n",
    "* Replace terminal utilities with an evaluation function for non-terminal positions\n",
    "* Evaluation functions are always imperfect\n",
    "* The deeper in the tree the evaluation function is buried, the quality of the evaluation function matters less"
   ]
  },
  {
   "cell_type": "markdown",
   "execution_count": null,
   "metadata": {},
   "outputs": [],
   "source": [
    "### Multiplayer Game Tree: 1 Max, 2 Mins"
   ]
  },
  {
   "cell_type": "markdown",
   "execution_count": null,
   "metadata": {},
   "outputs": [],
   "source": [
    "### Alpha-Beta Pruning\n",
    "\n"
   ]
  }
 ],
 "metadata": {
  "kernelspec": {
   "display_name": "Python 3",
   "language": "python",
   "name": "python3"
  },
  "language_info": {
   "codemirror_mode": {
    "name": "ipython",
    "version": 2
   },
   "file_extension": ".py",
   "mimetype": "text/x-python",
   "name": "python",
   "nbconvert_exporter": "python",
   "pygments_lexer": "ipython2",
   "version": "2.7.6"
  },
  "pycharm": {
   "stem_cell": {
    "cell_type": "raw",
    "source": [],
    "metadata": {
     "collapsed": false
    }
   }
  }
 },
 "nbformat": 4,
 "nbformat_minor": 0
}